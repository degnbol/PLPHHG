{
 "cells": [
  {
   "cell_type": "code",
   "execution_count": null,
   "id": "111aa69c",
   "metadata": {},
   "outputs": [],
   "source": [
    "import numpy as np\n",
    "import pandas as pd\n",
    "import pickle\n",
    "import json\n",
    "import plotly.graph_objects as go\n",
    "import plotly\n",
    "from plotly.subplots import make_subplots\n",
    "import plotly.express as px\n",
    "from scipy.stats import *\n",
    "\n",
    "\n",
    "NEMATODES = ['nematode_0','nematode_1','nematode_2','nematode_3','nematode_4','nematode_5']\n",
    "\n",
    "COLOR_PALETTE = [\"#cd34b5\",\"#ab7ca3\",\"#0064ab\"]\n",
    "\n",
    "COLOR_PALETTE_COMMS = ['#d0e3f5',\n",
    "                       '#d60000',\n",
    "                       '#8c3bff',\n",
    "                       '#018700',\n",
    "                       '#00acc6',\n",
    "                       '#e6a500',\n",
    "                       '#ff7ed1',\n",
    "                       '#6b004f',\n",
    "                       '#573b00',\n",
    "                       '#005659',\n",
    "                       '#15e18c',\n",
    "                       \"#ffd700\",\n",
    "                       \"#ffb14e\",\n",
    "                       \"#fa8775\",\n",
    "                       \"#ea5f94\",\n",
    "                       \"#cd34b5\",\n",
    "                       \"#9d02d7\",\n",
    "                       \"#ab7ca3\",\n",
    "                       \"#0064ab\",\n",
    "                       \"#0000ff\"]"
   ]
  },
  {
   "cell_type": "code",
   "execution_count": 32,
   "id": "a76c5a0d",
   "metadata": {},
   "outputs": [],
   "source": [
    "import scipy.stats as st"
   ]
  },
  {
   "cell_type": "code",
   "execution_count": null,
   "id": "48b6b0d0",
   "metadata": {},
   "outputs": [],
   "source": [
    "def load_curve(filename,dataset):\n",
    "    \n",
    "    return(np.load(dataset + '/pointClouds/' + filename + '.npy'))"
   ]
  },
  {
   "cell_type": "code",
   "execution_count": null,
   "id": "c89f7bc4",
   "metadata": {},
   "outputs": [],
   "source": [
    "with open('communities_nematodes_matroidgenerators.json', 'r') as f:\n",
    "    COMMUNITIES_nematodes =json.load(f)\n",
    "\n",
    "with open('communities_zebrafish_matroidgeneratos.json', 'r') as f:\n",
    "    COMMUNITIES_zebrafish =json.load(f)"
   ]
  },
  {
   "cell_type": "code",
   "execution_count": null,
   "id": "8733970e",
   "metadata": {},
   "outputs": [],
   "source": [
    "def load_centrality(filename,dataset,generators):\n",
    "    cc = pd.read_csv(dataset + '/' + generators+ '_generators' + '/nodeCents/' + filename + '.tsv', sep=\"\\t\", header=None).values\n",
    "    for i in range(len(cc),len(load_curve(filename,dataset))):\n",
    "        cc = np.append(cc,0)\n",
    "    return cc\n",
    "\n"
   ]
  },
  {
   "cell_type": "code",
   "execution_count": null,
   "id": "5ef91899",
   "metadata": {},
   "outputs": [],
   "source": [
    "def plot_chain_with_centrality(filename, dataset, generators = 'matroid'):\n",
    "    \n",
    "    curve = load_curve(filename,dataset)\n",
    "    nodes = load_centrality(filename,dataset, 'matroid')\n",
    "\n",
    "    if dataset == 'nematodes':\n",
    "        df = pd.DataFrame.from_records(curve[:,:2], columns=['X', 'Y'])\n",
    "        df[\"node centrality\"] = nodes    \n",
    "        fig = px.scatter(\n",
    "            df, x=\"X\", y=\"Y\", \n",
    "            color=\"node centrality\",\n",
    "        )\n",
    "        fig = go.Figure(fig)\n",
    "        fig.update_traces(\n",
    "            mode='markers + lines',\n",
    "            marker=dict(size=10,\n",
    "                        line=dict(width=0.01,\n",
    "                                color='DarkSlateGrey')\n",
    "                       ),\n",
    "            line_width = 2\n",
    "        )\n",
    "\n",
    "        fig.update_traces(hoverinfo=\"text\",hovertemplate=[i for i in range(len(curve))],\n",
    "                     )\n",
    "        fig.update_layout(showlegend=False)\n",
    "        fig.update_layout(coloraxis_showscale=False)\n",
    "        fig.update_layout(paper_bgcolor=\"white\",\n",
    "                 plot_bgcolor=\"white\",\n",
    "                     width=500, \n",
    "                  height=500)\n",
    "        fig.update_xaxes(showticklabels=False,\n",
    "                    title = ' ')\n",
    "        fig.update_yaxes(showticklabels=False,\n",
    "                    title = ' ')\n",
    "        \n",
    "    else:\n",
    "        fig = go.Figure()\n",
    "        df = pd.DataFrame.from_records(curve, columns=['X', 'Y','Z'])\n",
    "        df[\"node centrality\"] = nodes    \n",
    "        fig.add_trace(go.Scatter3d(\n",
    "        x=df['X'], y=df['Y'], z=df['Z'], \n",
    "        name = filename,    \n",
    "        marker=dict(\n",
    "            size=3,\n",
    "            color = df[\"node centrality\"],\n",
    "            line=dict(width=0.01, \n",
    "                      color='DarkSlateGrey')\n",
    "\n",
    "        ),\n",
    "        line=dict(\n",
    "            width=8,\n",
    "            color = df[\"node centrality\"],\n",
    "        )),\n",
    "        )\n",
    "        fig.update_layout(scene=dict(xaxis = dict(\n",
    "                             backgroundcolor=\"rgb(200, 200, 230)\",\n",
    "                             gridcolor='rgba(0,0,0,0)',\n",
    "                             showbackground=False,\n",
    "                             zerolinecolor='rgba(0,0,0,0)',showticklabels=False,),\n",
    "        yaxis = dict(\n",
    "                             backgroundcolor=\"rgb(200, 200, 230)\",\n",
    "                             gridcolor='rgba(0,0,0,0)',\n",
    "                             showbackground=False,\n",
    "                             zerolinecolor='rgba(0,0,0,0)',showticklabels=False),\n",
    "                   zaxis = dict(\n",
    "                             backgroundcolor=\"rgb(200, 200, 230)\",\n",
    "                             gridcolor='rgba(0,0,0,0)',\n",
    "                             showbackground=False,\n",
    "                             zerolinecolor='rgba(0,0,0,0)',showticklabels=False),\n",
    "        ))\n",
    "\n",
    "        fig.update_layout(scene = dict(\n",
    "                        xaxis_title=' ',\n",
    "                        yaxis_title=' ',\n",
    "                        zaxis_title=' '))\n",
    "    return(fig)\n",
    "\n",
    "\n",
    "\n",
    "\n"
   ]
  },
  {
   "cell_type": "code",
   "execution_count": null,
   "id": "cc11010b",
   "metadata": {},
   "outputs": [],
   "source": [
    "def communities_color_code(comms):\n",
    "    n = np.sum([len(comms[k]) for k in comms.keys()])\n",
    "    nodes = n*[0]\n",
    "    color = 1\n",
    "    for k in comms.keys():\n",
    "        if len(comms[k])>1:\n",
    "            for j in comms[k]:\n",
    "                nodes[j] = color\n",
    "            color = color+1\n",
    "    return nodes\n",
    "\n",
    "\n",
    "def plot_chain_with_communities(filename, dataset):\n",
    "    \n",
    "    curve = load_curve(filename,dataset)\n",
    "    if dataset == 'nematodes':\n",
    "        community = COMMUNITIES_nematodes[filename]\n",
    "        df = pd.DataFrame.from_records(curve[:,:2], columns=['X', 'Y'])\n",
    "        nodes = communities_color_code(community)\n",
    "        df[\"node centrality\"] = nodes    \n",
    "        fig = px.scatter(\n",
    "            df, x=\"X\", y=\"Y\", \n",
    "            color=\"node centrality\",\n",
    "            color_continuous_scale= COLOR_PALETTE_COMMS\n",
    "        )\n",
    "        fig = go.Figure(fig)\n",
    "        fig.update_traces(\n",
    "            mode='markers + lines',\n",
    "            marker=dict(size=10,\n",
    "                        line=dict(width=0.01,\n",
    "                                color='DarkSlateGrey')\n",
    "                       ),\n",
    "            line_width = 2\n",
    "        )\n",
    "        fig.update_traces(hoverinfo=\"text\",hovertemplate=nodes)  \n",
    "        fig.update_layout(showlegend=False)\n",
    "        fig.update_layout(coloraxis_showscale=False)\n",
    "        fig.update_layout(paper_bgcolor=\"white\",\n",
    "                     plot_bgcolor=\"white\",\n",
    "                        width=500, \n",
    "                      height=500)\n",
    "        fig.update_xaxes(showticklabels=False,\n",
    "                        title = ' ')\n",
    "        fig.update_yaxes(showticklabels=False,\n",
    "                        title = ' ')\n",
    "        \n",
    "    else:\n",
    "        community = COMMUNITIES_zebrafish[filename]\n",
    "        df = pd.DataFrame.from_records(curve, columns=['X', 'Y','Z'])\n",
    "        nodes = communities_color_code(community)\n",
    "        df[\"node centrality\"] = nodes    \n",
    "        fig = go.Figure()\n",
    "        fig.add_trace(go.Scatter3d(\n",
    "        x=df['X'], y=df['Y'], z=df['Z'], \n",
    "        name = 'Curve',    \n",
    "        marker=dict(\n",
    "            size=8,\n",
    "            color = df[\"node centrality\"],\n",
    "            colorscale=COLOR_PALETTE,\n",
    "            line=dict(width=4, \n",
    "                      color='DarkSlateGrey')\n",
    "        ),\n",
    "        line=dict(\n",
    "            width=8,\n",
    "            color = df[\"node centrality\"],\n",
    "            colorscale=COLOR_PALETTE\n",
    "        )),\n",
    "        )\n",
    "        fig.update_layout(scene=dict(xaxis = dict(\n",
    "                             backgroundcolor=\"rgb(200, 200, 230)\",\n",
    "                             gridcolor='rgba(0,0,0,0)',\n",
    "                             showbackground=False,\n",
    "                             zerolinecolor='rgba(0,0,0,0)',showticklabels=False,),\n",
    "        yaxis = dict(\n",
    "                             backgroundcolor=\"rgb(200, 200, 230)\",\n",
    "                             gridcolor='rgba(0,0,0,0)',\n",
    "                             showbackground=False,\n",
    "                             zerolinecolor='rgba(0,0,0,0)',showticklabels=False),\n",
    "                   zaxis = dict(\n",
    "                             backgroundcolor=\"rgb(200, 200, 230)\",\n",
    "                             gridcolor='rgba(0,0,0,0)',\n",
    "                             showbackground=False,\n",
    "                             zerolinecolor='rgba(0,0,0,0)',showticklabels=False),\n",
    "        ))\n",
    "\n",
    "        fig.update_layout(scene = dict(\n",
    "                        xaxis_title=' ',\n",
    "                        yaxis_title=' ',\n",
    "                        zaxis_title=' '))\n",
    "        fig.update_traces(hoverinfo=\"text\",hovertemplate=nodes)\n",
    "        \n",
    "    return(fig)"
   ]
  },
  {
   "cell_type": "markdown",
   "id": "03cf796c",
   "metadata": {},
   "source": [
    "# HyperTDA detects and quantifies bias in zebrafish in vivo tracks"
   ]
  },
  {
   "cell_type": "markdown",
   "id": "44e82bcd",
   "metadata": {},
   "source": [
    "## Matroid generators"
   ]
  },
  {
   "cell_type": "code",
   "execution_count": null,
   "id": "7a34151b",
   "metadata": {},
   "outputs": [],
   "source": [
    "DDf_b_o = pd.read_csv('communities_overlap_zebrafish_matroidgeneratos.csv')\n",
    "Df = pd.read_csv('communities_stat_zebrafish_matroidgeneratos.csv')"
   ]
  },
  {
   "cell_type": "code",
   "execution_count": null,
   "id": "15a70255",
   "metadata": {},
   "outputs": [],
   "source": [
    "DDf_b_o"
   ]
  },
  {
   "cell_type": "code",
   "execution_count": null,
   "id": "b06ac88b",
   "metadata": {},
   "outputs": [],
   "source": [
    "def number_of_comms(group):\n",
    "    \"\"\"\n",
    "    Computes number of total and 'True' communities in a partition. \n",
    "    \"\"\"    \n",
    "    \n",
    "    \n",
    "    count = 0\n",
    "    count_all = 0\n",
    "    which = []\n",
    "    for el in group.keys():\n",
    "        count_all = count_all+1\n",
    "        if len(group[el])>1:\n",
    "            count = count+1\n",
    "            which.append(group[el])\n",
    "    return [count, which, count_all]    \n",
    "\n",
    "def analyse_overlap(group):\n",
    "    \"\"\"\n",
    "    Quantifies the pairwise overlap between communities in a partition,\n",
    "    as the p-value of the Mann-Whitney U-test\n",
    "    \"\"\"\n",
    "    \n",
    "    l,cs,l2 = number_of_comms(group)\n",
    "    M = []\n",
    "    for i in range(len(cs)):\n",
    "        for j in range(i+1,len(cs)):\n",
    "            U1, p = mannwhitneyu(cs[i],cs[j])\n",
    "            M.append(p)\n",
    "    M = np.array(M)\n",
    "    return M    \n"
   ]
  },
  {
   "cell_type": "code",
   "execution_count": null,
   "id": "e3e1e18c",
   "metadata": {},
   "outputs": [],
   "source": [
    "fig = px.box(DDf_b_o, x ='Overlap', color = 'Type',\n",
    "             log_x=True,\n",
    "               title= 'Overlap of communities',\n",
    "             notched = True,\n",
    "            hover_name='Name',\n",
    "            color_discrete_sequence=COLOR_PALETTE)\n",
    "\n",
    "fig.show()"
   ]
  },
  {
   "cell_type": "code",
   "execution_count": null,
   "id": "86e80927",
   "metadata": {},
   "outputs": [],
   "source": [
    "\n",
    "Df['Partial ambient ass'] = Df['Size']/Df['ROG']\n",
    "Df['Partial intrinsic ass'] = Df['Size']/Df['Life Span']"
   ]
  },
  {
   "cell_type": "code",
   "execution_count": null,
   "id": "f8bf7692",
   "metadata": {},
   "outputs": [],
   "source": [
    "fig = px.box(Df, x ='Life Span', color = 'Type',\n",
    "               title= 'Geodesic distance',\n",
    "             notched = True,\n",
    "            hover_name='Name',\n",
    "            color_discrete_sequence=COLOR_PALETTE)\n",
    "\n",
    "fig.show()"
   ]
  },
  {
   "cell_type": "code",
   "execution_count": null,
   "id": "8482ad9c",
   "metadata": {},
   "outputs": [],
   "source": [
    "fig = px.box(Df, x ='ROG', color = 'Type',\n",
    "               title= 'Volume',\n",
    "             notched = True,\n",
    "            hover_name='Name',\n",
    "            color_discrete_sequence=COLOR_PALETTE)\n",
    "\n",
    "fig.show()"
   ]
  },
  {
   "cell_type": "code",
   "execution_count": null,
   "id": "a25de1fe",
   "metadata": {},
   "outputs": [],
   "source": [
    "fig = px.box(Df, x ='Size', color = 'Type',\n",
    "               title= 'Size of communities',\n",
    "             notched = True,\n",
    "            hover_name='Name',\n",
    "            color_discrete_sequence=COLOR_PALETTE)\n",
    "\n",
    "fig.show()"
   ]
  },
  {
   "cell_type": "code",
   "execution_count": null,
   "id": "31b3bf02",
   "metadata": {},
   "outputs": [],
   "source": [
    "vectors = []\n",
    "s = Df.loc[Df['Type'] == 'unbiased']\n",
    "ss = DDf_b_o.loc[DDf_b_o['Type'] == 'unbiased']\n",
    "o = np.array(ss['Overlap'])\n",
    "r = np.array(s['ROG'])\n",
    "w = np.array(s['Size'])\n",
    "l = np.array(s['Life Span'])  \n",
    "w = np.log(w)\n",
    "\n",
    "\n",
    "    \n",
    "vectors.append([np.percentile(r, 50),np.percentile(w, 50),np.percentile(l, 50),10*np.percentile(o, 50)])\n",
    "\n",
    "\n",
    "\n",
    "s = Df.loc[Df['Type'] == 'zebrafish']\n",
    "ss = DDf_b_o.loc[DDf_b_o['Type'] == 'zebrafish']\n",
    "o = np.array(ss['Overlap'])\n",
    "r = np.array(s['ROG'])\n",
    "w = np.array(s['Size'])\n",
    "l = np.array(s['Life Span'])  \n",
    "w = np.log(w)\n",
    "\n",
    "vectors.append([np.percentile(r, 50),np.percentile(w, 50),np.percentile(l, 50),10*np.percentile(o, 50)])\n",
    "\n",
    "s = Df.loc[Df['Type'] == 'biased']\n",
    "ss = DDf_b_o.loc[DDf_b_o['Type'] == 'biased']\n",
    "o = np.array(ss['Overlap'])\n",
    "r = np.array(s['ROG'])\n",
    "w = np.array(s['Size'])\n",
    "l = np.array(s['Life Span'])  \n",
    "w = np.log(w)\n",
    "\n",
    "vectors.append([np.percentile(r, 50),np.percentile(w, 50),np.percentile(l, 50),10*np.percentile(o, 50)])\n",
    "\n",
    "\n",
    "\n",
    "vectors"
   ]
  },
  {
   "cell_type": "code",
   "execution_count": null,
   "id": "db9c76c5",
   "metadata": {},
   "outputs": [],
   "source": [
    "fig = go.Figure()\n",
    "\n",
    "for i in [0,2,1]:\n",
    "    fig.add_trace(go.Scatterpolar(\n",
    "        r= vectors[i],\n",
    "        theta = ['ROG', 'Weight', 'Life span', 'Separation'],\n",
    "        name = ['Unbiased tracks' ,'Biased tracks','Zebrafish tracks'][i],\n",
    "        fill='toself',\n",
    "        marker=dict(color = COLOR_PALETTE[i])\n",
    "    ))\n",
    "\n",
    "\n",
    "    \n",
    "fig.update_layout(coloraxis_showscale=False)\n",
    "fig.update_layout(paper_bgcolor=\"white\",\n",
    "                 plot_bgcolor=\"white\",\n",
    "                    width=500, \n",
    "                  height=500)\n",
    "fig.update_xaxes(showticklabels=False,\n",
    "                    title = ' ')\n",
    "fig.update_yaxes(showticklabels=False,\n",
    "                    title = ' ')\n",
    "\n",
    "fig.update_layout(\n",
    "  polar=dict(\n",
    "    radialaxis=dict(\n",
    "      visible=False\n",
    "    ),\n",
    "  ),\n",
    ")\n",
    "\n",
    "#fig.write_image('radar_matroid.svg')\n",
    "\n",
    "\n",
    "fig.show()    "
   ]
  },
  {
   "cell_type": "code",
   "execution_count": null,
   "id": "f089218a",
   "metadata": {},
   "outputs": [],
   "source": [
    "# bar plot for overlap\n",
    "\n",
    "# biased\n",
    "s = DDf_b_o.loc[DDf_b_o['Type'] == 'biased']\n",
    "data = s.Overlap.values\n",
    "data = (data,)\n",
    "res = bootstrap(data, np.median, confidence_level=0.95, method = \"percentile\")\n",
    "\n",
    "biased_median = np.median(data)\n",
    "biased_ci_low = res.confidence_interval.low\n",
    "biased_ci_high = res.confidence_interval.high\n",
    "\n",
    "# unbiased\n",
    "s = DDf_b_o.loc[DDf_b_o['Type'] == 'unbiased']\n",
    "data = s.Overlap.values\n",
    "data = (data,)\n",
    "res = bootstrap(data, np.median, confidence_level=0.95, method = \"percentile\")\n",
    "\n",
    "unbiased_median = np.median(data)\n",
    "unbiased_ci_low = res.confidence_interval.low\n",
    "unbiased_ci_high = res.confidence_interval.high\n",
    "\n",
    "# zebrafish\n",
    "s = DDf_b_o.loc[DDf_b_o['Type'] == 'zebrafish']\n",
    "data = s.Overlap.values\n",
    "data = (data,)\n",
    "res = bootstrap(data, np.median, confidence_level=0.95, method = \"percentile\")\n",
    "\n",
    "zebrafish_median = np.median(data)\n",
    "zebrafish_ci_low = res.confidence_interval.low\n",
    "zebrafish_ci_high = res.confidence_interval.high\n",
    "\n",
    "    \n",
    "df = pd.DataFrame()\n",
    "df['Type'] = ['unbiased', 'biased', 'zebrafish']\n",
    "df['Geodesic Intersection'] = [unbiased_median, biased_median, zebrafish_median]\n",
    "df['CI_low'] = [unbiased_median - unbiased_ci_low, biased_median - biased_ci_low, zebrafish_median - zebrafish_ci_low]\n",
    "df['CI_high'] = [unbiased_ci_high - unbiased_median, biased_ci_high - biased_median, zebrafish_ci_high - zebrafish_median]\n",
    "\n"
   ]
  },
  {
   "cell_type": "code",
   "execution_count": null,
   "id": "7a38044e",
   "metadata": {},
   "outputs": [],
   "source": [
    "df['category'] = [str(i) for i in df.index]\n",
    "fig = px.bar(df, \n",
    "       x=\"Type\", \n",
    "       y='Geodesic Intersection', \n",
    "       color = \"Type\", \n",
    "       error_y = \"CI_high\", \n",
    "       error_y_minus = \"CI_low\", \n",
    "       color_discrete_map = {'unbiased': '#cd34b5', 'biased': '#0064ab', 'zebrafish': '#ab7ca3'})\n",
    "\n",
    "fig.update_layout(paper_bgcolor=\"white\",\n",
    "                 plot_bgcolor=\"white\",\n",
    "                 showlegend = False,)\n",
    "#for i in range(3):\n",
    "#    fig.data[i].error_y.thickness = 12\n",
    "fig.update_layout(\n",
    "    width=500, \n",
    "    height=500,\n",
    "    font=dict(size=20)\n",
    ")\n",
    "fig.write_image('matroid_GI.svg')\n",
    "\n",
    "fig.show()"
   ]
  },
  {
   "cell_type": "code",
   "execution_count": null,
   "id": "467780c0",
   "metadata": {},
   "outputs": [],
   "source": [
    "# bar plot for ROG\n",
    "\n",
    "# biased\n",
    "s = Df[Df['Type'] == 'biased']\n",
    "data = s.ROG.values\n",
    "data = (data,)\n",
    "res = bootstrap(data, np.median, confidence_level=0.95, method = \"percentile\")\n",
    "\n",
    "biased_median = np.median(data)\n",
    "biased_ci_low = res.confidence_interval.low\n",
    "biased_ci_high = res.confidence_interval.high\n",
    "\n",
    "# unbiased\n",
    "s = Df.loc[Df['Type'] == 'unbiased']\n",
    "data = s.ROG.values\n",
    "data = (data,)\n",
    "res = bootstrap(data, np.median, confidence_level=0.95, method = \"percentile\")\n",
    "\n",
    "unbiased_median = np.median(data)\n",
    "unbiased_ci_low = res.confidence_interval.low\n",
    "unbiased_ci_high = res.confidence_interval.high\n",
    "\n",
    "# zebrafish\n",
    "s = Df.loc[Df['Type'] == 'zebrafish']\n",
    "data = s.ROG.values\n",
    "data = (data,)\n",
    "res = bootstrap(data, np.median, confidence_level=0.95, method = \"percentile\")\n",
    "\n",
    "zebrafish_median = np.median(data)\n",
    "zebrafish_ci_low = res.confidence_interval.low\n",
    "zebrafish_ci_high = res.confidence_interval.high\n",
    "\n",
    "    \n",
    "df = pd.DataFrame()\n",
    "df['Type'] = ['unbiased', 'biased', 'zebrafish']\n",
    "df['Volume'] = [unbiased_median, biased_median, zebrafish_median]\n",
    "df['CI_low'] = [unbiased_median - unbiased_ci_low, biased_median - biased_ci_low, zebrafish_median - zebrafish_ci_low]\n",
    "df['CI_high'] = [unbiased_ci_high - unbiased_median, biased_ci_high - biased_median, zebrafish_ci_high - zebrafish_median]\n",
    "\n"
   ]
  },
  {
   "cell_type": "code",
   "execution_count": null,
   "id": "404b0775",
   "metadata": {},
   "outputs": [],
   "source": [
    "df['category'] = [str(i) for i in df.index]\n",
    "fig = px.bar(df, \n",
    "       x=\"Type\", \n",
    "       y='Volume', \n",
    "       color = \"Type\", \n",
    "       error_y = \"CI_high\", \n",
    "       error_y_minus = \"CI_low\", \n",
    "       color_discrete_map = {'unbiased': '#cd34b5', 'biased': '#0064ab', 'zebrafish': '#ab7ca3'})\n",
    "\n",
    "fig.update_layout(paper_bgcolor=\"white\",\n",
    "                 plot_bgcolor=\"white\",\n",
    "                 showlegend = False,)\n",
    "#for i in range(3):\n",
    "#    fig.data[i].error_y.thickness = 12\n",
    "fig.update_layout(\n",
    "    width=500, \n",
    "    height=500,\n",
    "    font=dict(size=20)\n",
    ")\n",
    "fig.write_image('matroid_Volume.svg')\n",
    "\n",
    "fig.show()"
   ]
  },
  {
   "cell_type": "code",
   "execution_count": null,
   "id": "d886772c",
   "metadata": {},
   "outputs": [],
   "source": [
    "# bar plot for ROG\n",
    "\n",
    "# biased\n",
    "s = Df[Df['Type'] == 'biased']\n",
    "data = s.loc[:,\"Life Span\"].values\n",
    "data = (data,)\n",
    "res = bootstrap(data, np.median, confidence_level=0.95, method = \"percentile\")\n",
    "\n",
    "biased_median = np.median(data)\n",
    "biased_ci_low = res.confidence_interval.low\n",
    "biased_ci_high = res.confidence_interval.high\n",
    "\n",
    "# unbiased\n",
    "s = Df.loc[Df['Type'] == 'unbiased']\n",
    "data = s.loc[:,\"Life Span\"].values\n",
    "data = (data,)\n",
    "res = bootstrap(data, np.median, confidence_level=0.95, method = \"percentile\")\n",
    "\n",
    "unbiased_median = np.median(data)\n",
    "unbiased_ci_low = res.confidence_interval.low\n",
    "unbiased_ci_high = res.confidence_interval.high\n",
    "\n",
    "# zebrafish\n",
    "s = Df.loc[Df['Type'] == 'zebrafish']\n",
    "data = s.loc[:,\"Life Span\"].values\n",
    "data = (data,)\n",
    "res = bootstrap(data, np.median, confidence_level=0.95, method = \"percentile\")\n",
    "\n",
    "zebrafish_median = np.median(data)\n",
    "zebrafish_ci_low = res.confidence_interval.low\n",
    "zebrafish_ci_high = res.confidence_interval.high\n",
    "\n",
    "df = pd.DataFrame()\n",
    "df['Type'] = ['unbiased', 'biased', 'zebrafish']\n",
    "df['Geodesic Size'] = [unbiased_median, biased_median, zebrafish_median]\n",
    "df['CI_low'] = [unbiased_median - unbiased_ci_low, biased_median - biased_ci_low, zebrafish_median - zebrafish_ci_low]\n",
    "df['CI_high'] = [unbiased_ci_high - unbiased_median, biased_ci_high - biased_median, zebrafish_ci_high - zebrafish_median]\n",
    "\n"
   ]
  },
  {
   "cell_type": "code",
   "execution_count": null,
   "id": "1df7b315",
   "metadata": {},
   "outputs": [],
   "source": [
    "df['category'] = [str(i) for i in df.index]\n",
    "fig = px.bar(df, \n",
    "       x=\"Type\", \n",
    "       y='Geodesic Size', \n",
    "       color = \"Type\", \n",
    "       error_y = \"CI_high\", \n",
    "       error_y_minus = \"CI_low\", \n",
    "       color_discrete_map = {'unbiased': '#cd34b5', 'biased': '#0064ab', 'zebrafish': '#ab7ca3'})\n",
    "\n",
    "fig.update_layout(paper_bgcolor=\"white\",\n",
    "                 plot_bgcolor=\"white\",\n",
    "                 showlegend = False,)\n",
    "#for i in range(3):\n",
    "#    fig.data[i].error_y.thickness = 12\n",
    "fig.update_layout(\n",
    "    width=500, \n",
    "    height=500,\n",
    "    font=dict(size=20)\n",
    ")\n",
    "fig.write_image('matroid_GS.svg')\n",
    "\n",
    "fig.show()"
   ]
  },
  {
   "cell_type": "code",
   "execution_count": null,
   "id": "390d7f06",
   "metadata": {},
   "outputs": [],
   "source": [
    "# bar plot for Size\n",
    "\n",
    "# biased\n",
    "s = Df[Df['Type'] == 'biased']\n",
    "data = s.loc[:,\"Size\"].values\n",
    "data = (data,)\n",
    "res = bootstrap(data, np.median, confidence_level=0.95, method = \"percentile\")\n",
    "\n",
    "biased_median = np.median(data)\n",
    "biased_ci_low = res.confidence_interval.low\n",
    "biased_ci_high = res.confidence_interval.high\n",
    "\n",
    "# unbiased\n",
    "s = Df.loc[Df['Type'] == 'unbiased']\n",
    "data = s.loc[:,\"Size\"].values\n",
    "data = (data,)\n",
    "res = bootstrap(data, np.median, confidence_level=0.95, method = \"percentile\")\n",
    "\n",
    "unbiased_median = np.median(data)\n",
    "unbiased_ci_low = res.confidence_interval.low\n",
    "unbiased_ci_high = res.confidence_interval.high\n",
    "\n",
    "# zebrafish\n",
    "s = Df.loc[Df['Type'] == 'zebrafish']\n",
    "data = s.loc[:,\"Size\"].values\n",
    "data = (data,)\n",
    "res = bootstrap(data, np.median, confidence_level=0.95, method = \"percentile\")\n",
    "\n",
    "zebrafish_median = np.median(data)\n",
    "zebrafish_ci_low = res.confidence_interval.low\n",
    "zebrafish_ci_high = res.confidence_interval.high\n",
    "\n",
    "df = pd.DataFrame()\n",
    "df['Type'] = ['unbiased', 'biased', 'zebrafish']\n",
    "df['Size'] = [unbiased_median, biased_median, zebrafish_median]\n",
    "df['CI_low'] = [unbiased_median - unbiased_ci_low, biased_median - biased_ci_low, zebrafish_median - zebrafish_ci_low]\n",
    "df['CI_high'] = [unbiased_ci_high - unbiased_median, biased_ci_high - biased_median, zebrafish_ci_high - zebrafish_median]\n",
    "\n"
   ]
  },
  {
   "cell_type": "code",
   "execution_count": null,
   "id": "1c6ead06",
   "metadata": {},
   "outputs": [],
   "source": [
    "df['category'] = [str(i) for i in df.index]\n",
    "fig = px.bar(df, \n",
    "       x=\"Type\", \n",
    "       y='Size', \n",
    "       color = \"Type\", \n",
    "       error_y = \"CI_high\", \n",
    "       error_y_minus = \"CI_low\", \n",
    "       color_discrete_map = {'unbiased': '#cd34b5', 'biased': '#0064ab', 'zebrafish': '#ab7ca3'})\n",
    "\n",
    "fig.update_layout(paper_bgcolor=\"white\",\n",
    "                 plot_bgcolor=\"white\",\n",
    "                 showlegend = False,)\n",
    "#for i in range(3):\n",
    "#    fig.data[i].error_y.thickness = 12\n",
    "fig.update_layout(\n",
    "    width=500, \n",
    "    height=500,\n",
    "    font=dict(size=20)\n",
    ")\n",
    "fig.write_image('matroid_size.svg')\n",
    "\n",
    "fig.show()"
   ]
  },
  {
   "cell_type": "code",
   "execution_count": null,
   "id": "63b31ed4",
   "metadata": {},
   "outputs": [],
   "source": [
    "DDf_b_o = pd.read_csv('communities_overlap_zebrafish_matroidgeneratos.csv')\n",
    "Df = pd.read_csv('communities_stat_zebrafish_matroidgeneratos.csv')\n",
    "Df['Partial ambient ass'] = Df['Size']/Df['ROG']\n",
    "Df['Partial intrinsic ass'] = Df['Size']/Df['Life Span']"
   ]
  },
  {
   "cell_type": "code",
   "execution_count": 33,
   "id": "e603acc2",
   "metadata": {},
   "outputs": [
    {
     "data": {
      "text/html": [
       "<div>\n",
       "<style scoped>\n",
       "    .dataframe tbody tr th:only-of-type {\n",
       "        vertical-align: middle;\n",
       "    }\n",
       "\n",
       "    .dataframe tbody tr th {\n",
       "        vertical-align: top;\n",
       "    }\n",
       "\n",
       "    .dataframe thead th {\n",
       "        text-align: right;\n",
       "    }\n",
       "</style>\n",
       "<table border=\"1\" class=\"dataframe\">\n",
       "  <thead>\n",
       "    <tr style=\"text-align: right;\">\n",
       "      <th></th>\n",
       "      <th>Ambient assortativity</th>\n",
       "      <th>Intrinsic assortativity</th>\n",
       "      <th>Type</th>\n",
       "      <th>CI_lowAA</th>\n",
       "      <th>CI_highAA</th>\n",
       "      <th>CI_lowIA</th>\n",
       "      <th>CI_highIA</th>\n",
       "    </tr>\n",
       "  </thead>\n",
       "  <tbody>\n",
       "    <tr>\n",
       "      <th>0</th>\n",
       "      <td>7.003347</td>\n",
       "      <td>17.163340</td>\n",
       "      <td>unbiased</td>\n",
       "      <td>0.199240</td>\n",
       "      <td>0.199240</td>\n",
       "      <td>0.587129</td>\n",
       "      <td>0.587129</td>\n",
       "    </tr>\n",
       "    <tr>\n",
       "      <th>1</th>\n",
       "      <td>8.192485</td>\n",
       "      <td>17.671645</td>\n",
       "      <td>zebrafish</td>\n",
       "      <td>0.420350</td>\n",
       "      <td>0.420350</td>\n",
       "      <td>0.941941</td>\n",
       "      <td>0.941941</td>\n",
       "    </tr>\n",
       "    <tr>\n",
       "      <th>2</th>\n",
       "      <td>7.561790</td>\n",
       "      <td>17.545480</td>\n",
       "      <td>biased</td>\n",
       "      <td>0.252189</td>\n",
       "      <td>0.252189</td>\n",
       "      <td>0.586685</td>\n",
       "      <td>0.586685</td>\n",
       "    </tr>\n",
       "  </tbody>\n",
       "</table>\n",
       "</div>"
      ],
      "text/plain": [
       "   Ambient assortativity  Intrinsic assortativity       Type  CI_lowAA  \\\n",
       "0               7.003347                17.163340   unbiased  0.199240   \n",
       "1               8.192485                17.671645  zebrafish  0.420350   \n",
       "2               7.561790                17.545480     biased  0.252189   \n",
       "\n",
       "   CI_highAA  CI_lowIA  CI_highIA  \n",
       "0   0.199240  0.587129   0.587129  \n",
       "1   0.420350  0.941941   0.941941  \n",
       "2   0.252189  0.586685   0.586685  "
      ]
     },
     "execution_count": 33,
     "metadata": {},
     "output_type": "execute_result"
    }
   ],
   "source": [
    "AA,IA = [],[]\n",
    "CI_lowAA = []\n",
    "CI_highAA = []\n",
    "CI_lowIA = []\n",
    "CI_highIA = []\n",
    "\n",
    "for Type in ['unbiased', 'zebrafish','biased']:\n",
    "    s = Df.loc[Df['Type'] == Type]\n",
    "    r = np.array(s['ROG'])\n",
    "    w = np.array(s['Size'])\n",
    "    l = np.array(s['Life Span']) \n",
    "    AA.append(np.sum(np.array(s['Partial ambient ass'])/len(s['Partial ambient ass'])))\n",
    "    IA.append(np.sum(np.array(s['Partial intrinsic ass'])/len(s['Partial intrinsic ass'])))\n",
    "    \n",
    "    dataAA = s[\"Partial ambient ass\"]\n",
    "    dataIA = s[\"Partial intrinsic ass\"]\n",
    "    \n",
    "    # compute 95% confidence interval\n",
    "    ci_lowerAA, ci_upperAA = st.norm.interval(alpha=0.95, loc=np.mean(dataAA), scale=st.sem(dataAA))\n",
    "    ci_lowerIA, ci_upperIA = st.norm.interval(alpha=0.95, loc=np.mean(dataIA), scale=st.sem(dataIA))\n",
    "    CI_lowAA.append(ci_lowerAA)\n",
    "    CI_highAA.append(ci_upperAA)\n",
    "    CI_lowIA.append(ci_lowerIA)\n",
    "    CI_highIA.append(ci_upperIA)\n",
    "    \n",
    "AS = pd.DataFrame()\n",
    "AS['Ambient assortativity'] = AA\n",
    "AS['Intrinsic assortativity'] = IA\n",
    "AS['Type'] = ['unbiased', 'zebrafish','biased']\n",
    "AS['CI_lowAA'] = [element1 - element2 for (element1, element2) in zip(AA, CI_lowAA)]\n",
    "AS['CI_highAA'] = [element1 - element2 for (element1, element2) in zip(CI_highAA, AA)]\n",
    "AS['CI_lowIA'] = [element1 - element2 for (element1, element2) in zip(IA, CI_lowIA)]\n",
    "AS['CI_highIA'] = [element1 - element2 for (element1, element2) in zip(CI_highIA, IA)]\n",
    "AS"
   ]
  },
  {
   "cell_type": "code",
   "execution_count": 36,
   "id": "a4315633",
   "metadata": {},
   "outputs": [
    {
     "data": {
      "application/vnd.plotly.v1+json": {
       "config": {
        "plotlyServerURL": "https://plot.ly"
       },
       "data": [
        {
         "alignmentgroup": "True",
         "error_y": {
          "array": [
           0.19924003339545493
          ],
          "arrayminus": [
           0.19924003339545315
          ]
         },
         "hovertemplate": "Type=%{x}<br>Ambient assortativity=%{y}<extra></extra>",
         "legendgroup": "unbiased",
         "marker": {
          "color": "#cd34b5",
          "pattern": {
           "shape": ""
          }
         },
         "name": "unbiased",
         "offsetgroup": "unbiased",
         "orientation": "v",
         "showlegend": true,
         "textposition": "auto",
         "type": "bar",
         "x": [
          "unbiased"
         ],
         "xaxis": "x",
         "y": [
          7.0033472594823625
         ],
         "yaxis": "y"
        },
        {
         "alignmentgroup": "True",
         "error_y": {
          "array": [
           0.4203500533347615
          ],
          "arrayminus": [
           0.4203500533347615
          ]
         },
         "hovertemplate": "Type=%{x}<br>Ambient assortativity=%{y}<extra></extra>",
         "legendgroup": "zebrafish",
         "marker": {
          "color": "#ab7ca3",
          "pattern": {
           "shape": ""
          }
         },
         "name": "zebrafish",
         "offsetgroup": "zebrafish",
         "orientation": "v",
         "showlegend": true,
         "textposition": "auto",
         "type": "bar",
         "x": [
          "zebrafish"
         ],
         "xaxis": "x",
         "y": [
          8.192485083849594
         ],
         "yaxis": "y"
        },
        {
         "alignmentgroup": "True",
         "error_y": {
          "array": [
           0.2521893753452673
          ],
          "arrayminus": [
           0.2521893753452691
          ]
         },
         "hovertemplate": "Type=%{x}<br>Ambient assortativity=%{y}<extra></extra>",
         "legendgroup": "biased",
         "marker": {
          "color": "#0064ab",
          "pattern": {
           "shape": ""
          }
         },
         "name": "biased",
         "offsetgroup": "biased",
         "orientation": "v",
         "showlegend": true,
         "textposition": "auto",
         "type": "bar",
         "x": [
          "biased"
         ],
         "xaxis": "x",
         "y": [
          7.5617896651954215
         ],
         "yaxis": "y"
        }
       ],
       "layout": {
        "barmode": "relative",
        "font": {
         "size": 20
        },
        "height": 500,
        "legend": {
         "title": {
          "text": "Type"
         },
         "tracegroupgap": 0
        },
        "margin": {
         "t": 60
        },
        "paper_bgcolor": "white",
        "plot_bgcolor": "white",
        "showlegend": false,
        "template": {
         "data": {
          "bar": [
           {
            "error_x": {
             "color": "#2a3f5f"
            },
            "error_y": {
             "color": "#2a3f5f"
            },
            "marker": {
             "line": {
              "color": "#E5ECF6",
              "width": 0.5
             },
             "pattern": {
              "fillmode": "overlay",
              "size": 10,
              "solidity": 0.2
             }
            },
            "type": "bar"
           }
          ],
          "barpolar": [
           {
            "marker": {
             "line": {
              "color": "#E5ECF6",
              "width": 0.5
             },
             "pattern": {
              "fillmode": "overlay",
              "size": 10,
              "solidity": 0.2
             }
            },
            "type": "barpolar"
           }
          ],
          "carpet": [
           {
            "aaxis": {
             "endlinecolor": "#2a3f5f",
             "gridcolor": "white",
             "linecolor": "white",
             "minorgridcolor": "white",
             "startlinecolor": "#2a3f5f"
            },
            "baxis": {
             "endlinecolor": "#2a3f5f",
             "gridcolor": "white",
             "linecolor": "white",
             "minorgridcolor": "white",
             "startlinecolor": "#2a3f5f"
            },
            "type": "carpet"
           }
          ],
          "choropleth": [
           {
            "colorbar": {
             "outlinewidth": 0,
             "ticks": ""
            },
            "type": "choropleth"
           }
          ],
          "contour": [
           {
            "colorbar": {
             "outlinewidth": 0,
             "ticks": ""
            },
            "colorscale": [
             [
              0,
              "#0d0887"
             ],
             [
              0.1111111111111111,
              "#46039f"
             ],
             [
              0.2222222222222222,
              "#7201a8"
             ],
             [
              0.3333333333333333,
              "#9c179e"
             ],
             [
              0.4444444444444444,
              "#bd3786"
             ],
             [
              0.5555555555555556,
              "#d8576b"
             ],
             [
              0.6666666666666666,
              "#ed7953"
             ],
             [
              0.7777777777777778,
              "#fb9f3a"
             ],
             [
              0.8888888888888888,
              "#fdca26"
             ],
             [
              1,
              "#f0f921"
             ]
            ],
            "type": "contour"
           }
          ],
          "contourcarpet": [
           {
            "colorbar": {
             "outlinewidth": 0,
             "ticks": ""
            },
            "type": "contourcarpet"
           }
          ],
          "heatmap": [
           {
            "colorbar": {
             "outlinewidth": 0,
             "ticks": ""
            },
            "colorscale": [
             [
              0,
              "#0d0887"
             ],
             [
              0.1111111111111111,
              "#46039f"
             ],
             [
              0.2222222222222222,
              "#7201a8"
             ],
             [
              0.3333333333333333,
              "#9c179e"
             ],
             [
              0.4444444444444444,
              "#bd3786"
             ],
             [
              0.5555555555555556,
              "#d8576b"
             ],
             [
              0.6666666666666666,
              "#ed7953"
             ],
             [
              0.7777777777777778,
              "#fb9f3a"
             ],
             [
              0.8888888888888888,
              "#fdca26"
             ],
             [
              1,
              "#f0f921"
             ]
            ],
            "type": "heatmap"
           }
          ],
          "heatmapgl": [
           {
            "colorbar": {
             "outlinewidth": 0,
             "ticks": ""
            },
            "colorscale": [
             [
              0,
              "#0d0887"
             ],
             [
              0.1111111111111111,
              "#46039f"
             ],
             [
              0.2222222222222222,
              "#7201a8"
             ],
             [
              0.3333333333333333,
              "#9c179e"
             ],
             [
              0.4444444444444444,
              "#bd3786"
             ],
             [
              0.5555555555555556,
              "#d8576b"
             ],
             [
              0.6666666666666666,
              "#ed7953"
             ],
             [
              0.7777777777777778,
              "#fb9f3a"
             ],
             [
              0.8888888888888888,
              "#fdca26"
             ],
             [
              1,
              "#f0f921"
             ]
            ],
            "type": "heatmapgl"
           }
          ],
          "histogram": [
           {
            "marker": {
             "pattern": {
              "fillmode": "overlay",
              "size": 10,
              "solidity": 0.2
             }
            },
            "type": "histogram"
           }
          ],
          "histogram2d": [
           {
            "colorbar": {
             "outlinewidth": 0,
             "ticks": ""
            },
            "colorscale": [
             [
              0,
              "#0d0887"
             ],
             [
              0.1111111111111111,
              "#46039f"
             ],
             [
              0.2222222222222222,
              "#7201a8"
             ],
             [
              0.3333333333333333,
              "#9c179e"
             ],
             [
              0.4444444444444444,
              "#bd3786"
             ],
             [
              0.5555555555555556,
              "#d8576b"
             ],
             [
              0.6666666666666666,
              "#ed7953"
             ],
             [
              0.7777777777777778,
              "#fb9f3a"
             ],
             [
              0.8888888888888888,
              "#fdca26"
             ],
             [
              1,
              "#f0f921"
             ]
            ],
            "type": "histogram2d"
           }
          ],
          "histogram2dcontour": [
           {
            "colorbar": {
             "outlinewidth": 0,
             "ticks": ""
            },
            "colorscale": [
             [
              0,
              "#0d0887"
             ],
             [
              0.1111111111111111,
              "#46039f"
             ],
             [
              0.2222222222222222,
              "#7201a8"
             ],
             [
              0.3333333333333333,
              "#9c179e"
             ],
             [
              0.4444444444444444,
              "#bd3786"
             ],
             [
              0.5555555555555556,
              "#d8576b"
             ],
             [
              0.6666666666666666,
              "#ed7953"
             ],
             [
              0.7777777777777778,
              "#fb9f3a"
             ],
             [
              0.8888888888888888,
              "#fdca26"
             ],
             [
              1,
              "#f0f921"
             ]
            ],
            "type": "histogram2dcontour"
           }
          ],
          "mesh3d": [
           {
            "colorbar": {
             "outlinewidth": 0,
             "ticks": ""
            },
            "type": "mesh3d"
           }
          ],
          "parcoords": [
           {
            "line": {
             "colorbar": {
              "outlinewidth": 0,
              "ticks": ""
             }
            },
            "type": "parcoords"
           }
          ],
          "pie": [
           {
            "automargin": true,
            "type": "pie"
           }
          ],
          "scatter": [
           {
            "marker": {
             "colorbar": {
              "outlinewidth": 0,
              "ticks": ""
             }
            },
            "type": "scatter"
           }
          ],
          "scatter3d": [
           {
            "line": {
             "colorbar": {
              "outlinewidth": 0,
              "ticks": ""
             }
            },
            "marker": {
             "colorbar": {
              "outlinewidth": 0,
              "ticks": ""
             }
            },
            "type": "scatter3d"
           }
          ],
          "scattercarpet": [
           {
            "marker": {
             "colorbar": {
              "outlinewidth": 0,
              "ticks": ""
             }
            },
            "type": "scattercarpet"
           }
          ],
          "scattergeo": [
           {
            "marker": {
             "colorbar": {
              "outlinewidth": 0,
              "ticks": ""
             }
            },
            "type": "scattergeo"
           }
          ],
          "scattergl": [
           {
            "marker": {
             "colorbar": {
              "outlinewidth": 0,
              "ticks": ""
             }
            },
            "type": "scattergl"
           }
          ],
          "scattermapbox": [
           {
            "marker": {
             "colorbar": {
              "outlinewidth": 0,
              "ticks": ""
             }
            },
            "type": "scattermapbox"
           }
          ],
          "scatterpolar": [
           {
            "marker": {
             "colorbar": {
              "outlinewidth": 0,
              "ticks": ""
             }
            },
            "type": "scatterpolar"
           }
          ],
          "scatterpolargl": [
           {
            "marker": {
             "colorbar": {
              "outlinewidth": 0,
              "ticks": ""
             }
            },
            "type": "scatterpolargl"
           }
          ],
          "scatterternary": [
           {
            "marker": {
             "colorbar": {
              "outlinewidth": 0,
              "ticks": ""
             }
            },
            "type": "scatterternary"
           }
          ],
          "surface": [
           {
            "colorbar": {
             "outlinewidth": 0,
             "ticks": ""
            },
            "colorscale": [
             [
              0,
              "#0d0887"
             ],
             [
              0.1111111111111111,
              "#46039f"
             ],
             [
              0.2222222222222222,
              "#7201a8"
             ],
             [
              0.3333333333333333,
              "#9c179e"
             ],
             [
              0.4444444444444444,
              "#bd3786"
             ],
             [
              0.5555555555555556,
              "#d8576b"
             ],
             [
              0.6666666666666666,
              "#ed7953"
             ],
             [
              0.7777777777777778,
              "#fb9f3a"
             ],
             [
              0.8888888888888888,
              "#fdca26"
             ],
             [
              1,
              "#f0f921"
             ]
            ],
            "type": "surface"
           }
          ],
          "table": [
           {
            "cells": {
             "fill": {
              "color": "#EBF0F8"
             },
             "line": {
              "color": "white"
             }
            },
            "header": {
             "fill": {
              "color": "#C8D4E3"
             },
             "line": {
              "color": "white"
             }
            },
            "type": "table"
           }
          ]
         },
         "layout": {
          "annotationdefaults": {
           "arrowcolor": "#2a3f5f",
           "arrowhead": 0,
           "arrowwidth": 1
          },
          "autotypenumbers": "strict",
          "coloraxis": {
           "colorbar": {
            "outlinewidth": 0,
            "ticks": ""
           }
          },
          "colorscale": {
           "diverging": [
            [
             0,
             "#8e0152"
            ],
            [
             0.1,
             "#c51b7d"
            ],
            [
             0.2,
             "#de77ae"
            ],
            [
             0.3,
             "#f1b6da"
            ],
            [
             0.4,
             "#fde0ef"
            ],
            [
             0.5,
             "#f7f7f7"
            ],
            [
             0.6,
             "#e6f5d0"
            ],
            [
             0.7,
             "#b8e186"
            ],
            [
             0.8,
             "#7fbc41"
            ],
            [
             0.9,
             "#4d9221"
            ],
            [
             1,
             "#276419"
            ]
           ],
           "sequential": [
            [
             0,
             "#0d0887"
            ],
            [
             0.1111111111111111,
             "#46039f"
            ],
            [
             0.2222222222222222,
             "#7201a8"
            ],
            [
             0.3333333333333333,
             "#9c179e"
            ],
            [
             0.4444444444444444,
             "#bd3786"
            ],
            [
             0.5555555555555556,
             "#d8576b"
            ],
            [
             0.6666666666666666,
             "#ed7953"
            ],
            [
             0.7777777777777778,
             "#fb9f3a"
            ],
            [
             0.8888888888888888,
             "#fdca26"
            ],
            [
             1,
             "#f0f921"
            ]
           ],
           "sequentialminus": [
            [
             0,
             "#0d0887"
            ],
            [
             0.1111111111111111,
             "#46039f"
            ],
            [
             0.2222222222222222,
             "#7201a8"
            ],
            [
             0.3333333333333333,
             "#9c179e"
            ],
            [
             0.4444444444444444,
             "#bd3786"
            ],
            [
             0.5555555555555556,
             "#d8576b"
            ],
            [
             0.6666666666666666,
             "#ed7953"
            ],
            [
             0.7777777777777778,
             "#fb9f3a"
            ],
            [
             0.8888888888888888,
             "#fdca26"
            ],
            [
             1,
             "#f0f921"
            ]
           ]
          },
          "colorway": [
           "#636efa",
           "#EF553B",
           "#00cc96",
           "#ab63fa",
           "#FFA15A",
           "#19d3f3",
           "#FF6692",
           "#B6E880",
           "#FF97FF",
           "#FECB52"
          ],
          "font": {
           "color": "#2a3f5f"
          },
          "geo": {
           "bgcolor": "white",
           "lakecolor": "white",
           "landcolor": "#E5ECF6",
           "showlakes": true,
           "showland": true,
           "subunitcolor": "white"
          },
          "hoverlabel": {
           "align": "left"
          },
          "hovermode": "closest",
          "mapbox": {
           "style": "light"
          },
          "paper_bgcolor": "white",
          "plot_bgcolor": "#E5ECF6",
          "polar": {
           "angularaxis": {
            "gridcolor": "white",
            "linecolor": "white",
            "ticks": ""
           },
           "bgcolor": "#E5ECF6",
           "radialaxis": {
            "gridcolor": "white",
            "linecolor": "white",
            "ticks": ""
           }
          },
          "scene": {
           "xaxis": {
            "backgroundcolor": "#E5ECF6",
            "gridcolor": "white",
            "gridwidth": 2,
            "linecolor": "white",
            "showbackground": true,
            "ticks": "",
            "zerolinecolor": "white"
           },
           "yaxis": {
            "backgroundcolor": "#E5ECF6",
            "gridcolor": "white",
            "gridwidth": 2,
            "linecolor": "white",
            "showbackground": true,
            "ticks": "",
            "zerolinecolor": "white"
           },
           "zaxis": {
            "backgroundcolor": "#E5ECF6",
            "gridcolor": "white",
            "gridwidth": 2,
            "linecolor": "white",
            "showbackground": true,
            "ticks": "",
            "zerolinecolor": "white"
           }
          },
          "shapedefaults": {
           "line": {
            "color": "#2a3f5f"
           }
          },
          "ternary": {
           "aaxis": {
            "gridcolor": "white",
            "linecolor": "white",
            "ticks": ""
           },
           "baxis": {
            "gridcolor": "white",
            "linecolor": "white",
            "ticks": ""
           },
           "bgcolor": "#E5ECF6",
           "caxis": {
            "gridcolor": "white",
            "linecolor": "white",
            "ticks": ""
           }
          },
          "title": {
           "x": 0.05
          },
          "xaxis": {
           "automargin": true,
           "gridcolor": "white",
           "linecolor": "white",
           "ticks": "",
           "title": {
            "standoff": 15
           },
           "zerolinecolor": "white",
           "zerolinewidth": 2
          },
          "yaxis": {
           "automargin": true,
           "gridcolor": "white",
           "linecolor": "white",
           "ticks": "",
           "title": {
            "standoff": 15
           },
           "zerolinecolor": "white",
           "zerolinewidth": 2
          }
         }
        },
        "width": 500,
        "xaxis": {
         "anchor": "y",
         "categoryarray": [
          "unbiased",
          "zebrafish",
          "biased"
         ],
         "categoryorder": "array",
         "domain": [
          0,
          1
         ],
         "title": {
          "text": "Type"
         }
        },
        "yaxis": {
         "anchor": "x",
         "domain": [
          0,
          1
         ],
         "title": {
          "text": "Ambient assortativity"
         }
        }
       }
      },
      "text/html": [
       "<div>                            <div id=\"a32393cd-3c78-46da-81d3-aa7b0d39d404\" class=\"plotly-graph-div\" style=\"height:500px; width:500px;\"></div>            <script type=\"text/javascript\">                require([\"plotly\"], function(Plotly) {                    window.PLOTLYENV=window.PLOTLYENV || {};                                    if (document.getElementById(\"a32393cd-3c78-46da-81d3-aa7b0d39d404\")) {                    Plotly.newPlot(                        \"a32393cd-3c78-46da-81d3-aa7b0d39d404\",                        [{\"alignmentgroup\":\"True\",\"error_y\":{\"array\":[0.19924003339545493],\"arrayminus\":[0.19924003339545315]},\"hovertemplate\":\"Type=%{x}<br>Ambient assortativity=%{y}<extra></extra>\",\"legendgroup\":\"unbiased\",\"marker\":{\"color\":\"#cd34b5\",\"pattern\":{\"shape\":\"\"}},\"name\":\"unbiased\",\"offsetgroup\":\"unbiased\",\"orientation\":\"v\",\"showlegend\":true,\"textposition\":\"auto\",\"x\":[\"unbiased\"],\"xaxis\":\"x\",\"y\":[7.0033472594823625],\"yaxis\":\"y\",\"type\":\"bar\"},{\"alignmentgroup\":\"True\",\"error_y\":{\"array\":[0.4203500533347615],\"arrayminus\":[0.4203500533347615]},\"hovertemplate\":\"Type=%{x}<br>Ambient assortativity=%{y}<extra></extra>\",\"legendgroup\":\"zebrafish\",\"marker\":{\"color\":\"#ab7ca3\",\"pattern\":{\"shape\":\"\"}},\"name\":\"zebrafish\",\"offsetgroup\":\"zebrafish\",\"orientation\":\"v\",\"showlegend\":true,\"textposition\":\"auto\",\"x\":[\"zebrafish\"],\"xaxis\":\"x\",\"y\":[8.192485083849594],\"yaxis\":\"y\",\"type\":\"bar\"},{\"alignmentgroup\":\"True\",\"error_y\":{\"array\":[0.2521893753452673],\"arrayminus\":[0.2521893753452691]},\"hovertemplate\":\"Type=%{x}<br>Ambient assortativity=%{y}<extra></extra>\",\"legendgroup\":\"biased\",\"marker\":{\"color\":\"#0064ab\",\"pattern\":{\"shape\":\"\"}},\"name\":\"biased\",\"offsetgroup\":\"biased\",\"orientation\":\"v\",\"showlegend\":true,\"textposition\":\"auto\",\"x\":[\"biased\"],\"xaxis\":\"x\",\"y\":[7.5617896651954215],\"yaxis\":\"y\",\"type\":\"bar\"}],                        {\"template\":{\"data\":{\"bar\":[{\"error_x\":{\"color\":\"#2a3f5f\"},\"error_y\":{\"color\":\"#2a3f5f\"},\"marker\":{\"line\":{\"color\":\"#E5ECF6\",\"width\":0.5},\"pattern\":{\"fillmode\":\"overlay\",\"size\":10,\"solidity\":0.2}},\"type\":\"bar\"}],\"barpolar\":[{\"marker\":{\"line\":{\"color\":\"#E5ECF6\",\"width\":0.5},\"pattern\":{\"fillmode\":\"overlay\",\"size\":10,\"solidity\":0.2}},\"type\":\"barpolar\"}],\"carpet\":[{\"aaxis\":{\"endlinecolor\":\"#2a3f5f\",\"gridcolor\":\"white\",\"linecolor\":\"white\",\"minorgridcolor\":\"white\",\"startlinecolor\":\"#2a3f5f\"},\"baxis\":{\"endlinecolor\":\"#2a3f5f\",\"gridcolor\":\"white\",\"linecolor\":\"white\",\"minorgridcolor\":\"white\",\"startlinecolor\":\"#2a3f5f\"},\"type\":\"carpet\"}],\"choropleth\":[{\"colorbar\":{\"outlinewidth\":0,\"ticks\":\"\"},\"type\":\"choropleth\"}],\"contour\":[{\"colorbar\":{\"outlinewidth\":0,\"ticks\":\"\"},\"colorscale\":[[0.0,\"#0d0887\"],[0.1111111111111111,\"#46039f\"],[0.2222222222222222,\"#7201a8\"],[0.3333333333333333,\"#9c179e\"],[0.4444444444444444,\"#bd3786\"],[0.5555555555555556,\"#d8576b\"],[0.6666666666666666,\"#ed7953\"],[0.7777777777777778,\"#fb9f3a\"],[0.8888888888888888,\"#fdca26\"],[1.0,\"#f0f921\"]],\"type\":\"contour\"}],\"contourcarpet\":[{\"colorbar\":{\"outlinewidth\":0,\"ticks\":\"\"},\"type\":\"contourcarpet\"}],\"heatmap\":[{\"colorbar\":{\"outlinewidth\":0,\"ticks\":\"\"},\"colorscale\":[[0.0,\"#0d0887\"],[0.1111111111111111,\"#46039f\"],[0.2222222222222222,\"#7201a8\"],[0.3333333333333333,\"#9c179e\"],[0.4444444444444444,\"#bd3786\"],[0.5555555555555556,\"#d8576b\"],[0.6666666666666666,\"#ed7953\"],[0.7777777777777778,\"#fb9f3a\"],[0.8888888888888888,\"#fdca26\"],[1.0,\"#f0f921\"]],\"type\":\"heatmap\"}],\"heatmapgl\":[{\"colorbar\":{\"outlinewidth\":0,\"ticks\":\"\"},\"colorscale\":[[0.0,\"#0d0887\"],[0.1111111111111111,\"#46039f\"],[0.2222222222222222,\"#7201a8\"],[0.3333333333333333,\"#9c179e\"],[0.4444444444444444,\"#bd3786\"],[0.5555555555555556,\"#d8576b\"],[0.6666666666666666,\"#ed7953\"],[0.7777777777777778,\"#fb9f3a\"],[0.8888888888888888,\"#fdca26\"],[1.0,\"#f0f921\"]],\"type\":\"heatmapgl\"}],\"histogram\":[{\"marker\":{\"pattern\":{\"fillmode\":\"overlay\",\"size\":10,\"solidity\":0.2}},\"type\":\"histogram\"}],\"histogram2d\":[{\"colorbar\":{\"outlinewidth\":0,\"ticks\":\"\"},\"colorscale\":[[0.0,\"#0d0887\"],[0.1111111111111111,\"#46039f\"],[0.2222222222222222,\"#7201a8\"],[0.3333333333333333,\"#9c179e\"],[0.4444444444444444,\"#bd3786\"],[0.5555555555555556,\"#d8576b\"],[0.6666666666666666,\"#ed7953\"],[0.7777777777777778,\"#fb9f3a\"],[0.8888888888888888,\"#fdca26\"],[1.0,\"#f0f921\"]],\"type\":\"histogram2d\"}],\"histogram2dcontour\":[{\"colorbar\":{\"outlinewidth\":0,\"ticks\":\"\"},\"colorscale\":[[0.0,\"#0d0887\"],[0.1111111111111111,\"#46039f\"],[0.2222222222222222,\"#7201a8\"],[0.3333333333333333,\"#9c179e\"],[0.4444444444444444,\"#bd3786\"],[0.5555555555555556,\"#d8576b\"],[0.6666666666666666,\"#ed7953\"],[0.7777777777777778,\"#fb9f3a\"],[0.8888888888888888,\"#fdca26\"],[1.0,\"#f0f921\"]],\"type\":\"histogram2dcontour\"}],\"mesh3d\":[{\"colorbar\":{\"outlinewidth\":0,\"ticks\":\"\"},\"type\":\"mesh3d\"}],\"parcoords\":[{\"line\":{\"colorbar\":{\"outlinewidth\":0,\"ticks\":\"\"}},\"type\":\"parcoords\"}],\"pie\":[{\"automargin\":true,\"type\":\"pie\"}],\"scatter\":[{\"marker\":{\"colorbar\":{\"outlinewidth\":0,\"ticks\":\"\"}},\"type\":\"scatter\"}],\"scatter3d\":[{\"line\":{\"colorbar\":{\"outlinewidth\":0,\"ticks\":\"\"}},\"marker\":{\"colorbar\":{\"outlinewidth\":0,\"ticks\":\"\"}},\"type\":\"scatter3d\"}],\"scattercarpet\":[{\"marker\":{\"colorbar\":{\"outlinewidth\":0,\"ticks\":\"\"}},\"type\":\"scattercarpet\"}],\"scattergeo\":[{\"marker\":{\"colorbar\":{\"outlinewidth\":0,\"ticks\":\"\"}},\"type\":\"scattergeo\"}],\"scattergl\":[{\"marker\":{\"colorbar\":{\"outlinewidth\":0,\"ticks\":\"\"}},\"type\":\"scattergl\"}],\"scattermapbox\":[{\"marker\":{\"colorbar\":{\"outlinewidth\":0,\"ticks\":\"\"}},\"type\":\"scattermapbox\"}],\"scatterpolar\":[{\"marker\":{\"colorbar\":{\"outlinewidth\":0,\"ticks\":\"\"}},\"type\":\"scatterpolar\"}],\"scatterpolargl\":[{\"marker\":{\"colorbar\":{\"outlinewidth\":0,\"ticks\":\"\"}},\"type\":\"scatterpolargl\"}],\"scatterternary\":[{\"marker\":{\"colorbar\":{\"outlinewidth\":0,\"ticks\":\"\"}},\"type\":\"scatterternary\"}],\"surface\":[{\"colorbar\":{\"outlinewidth\":0,\"ticks\":\"\"},\"colorscale\":[[0.0,\"#0d0887\"],[0.1111111111111111,\"#46039f\"],[0.2222222222222222,\"#7201a8\"],[0.3333333333333333,\"#9c179e\"],[0.4444444444444444,\"#bd3786\"],[0.5555555555555556,\"#d8576b\"],[0.6666666666666666,\"#ed7953\"],[0.7777777777777778,\"#fb9f3a\"],[0.8888888888888888,\"#fdca26\"],[1.0,\"#f0f921\"]],\"type\":\"surface\"}],\"table\":[{\"cells\":{\"fill\":{\"color\":\"#EBF0F8\"},\"line\":{\"color\":\"white\"}},\"header\":{\"fill\":{\"color\":\"#C8D4E3\"},\"line\":{\"color\":\"white\"}},\"type\":\"table\"}]},\"layout\":{\"annotationdefaults\":{\"arrowcolor\":\"#2a3f5f\",\"arrowhead\":0,\"arrowwidth\":1},\"autotypenumbers\":\"strict\",\"coloraxis\":{\"colorbar\":{\"outlinewidth\":0,\"ticks\":\"\"}},\"colorscale\":{\"diverging\":[[0,\"#8e0152\"],[0.1,\"#c51b7d\"],[0.2,\"#de77ae\"],[0.3,\"#f1b6da\"],[0.4,\"#fde0ef\"],[0.5,\"#f7f7f7\"],[0.6,\"#e6f5d0\"],[0.7,\"#b8e186\"],[0.8,\"#7fbc41\"],[0.9,\"#4d9221\"],[1,\"#276419\"]],\"sequential\":[[0.0,\"#0d0887\"],[0.1111111111111111,\"#46039f\"],[0.2222222222222222,\"#7201a8\"],[0.3333333333333333,\"#9c179e\"],[0.4444444444444444,\"#bd3786\"],[0.5555555555555556,\"#d8576b\"],[0.6666666666666666,\"#ed7953\"],[0.7777777777777778,\"#fb9f3a\"],[0.8888888888888888,\"#fdca26\"],[1.0,\"#f0f921\"]],\"sequentialminus\":[[0.0,\"#0d0887\"],[0.1111111111111111,\"#46039f\"],[0.2222222222222222,\"#7201a8\"],[0.3333333333333333,\"#9c179e\"],[0.4444444444444444,\"#bd3786\"],[0.5555555555555556,\"#d8576b\"],[0.6666666666666666,\"#ed7953\"],[0.7777777777777778,\"#fb9f3a\"],[0.8888888888888888,\"#fdca26\"],[1.0,\"#f0f921\"]]},\"colorway\":[\"#636efa\",\"#EF553B\",\"#00cc96\",\"#ab63fa\",\"#FFA15A\",\"#19d3f3\",\"#FF6692\",\"#B6E880\",\"#FF97FF\",\"#FECB52\"],\"font\":{\"color\":\"#2a3f5f\"},\"geo\":{\"bgcolor\":\"white\",\"lakecolor\":\"white\",\"landcolor\":\"#E5ECF6\",\"showlakes\":true,\"showland\":true,\"subunitcolor\":\"white\"},\"hoverlabel\":{\"align\":\"left\"},\"hovermode\":\"closest\",\"mapbox\":{\"style\":\"light\"},\"paper_bgcolor\":\"white\",\"plot_bgcolor\":\"#E5ECF6\",\"polar\":{\"angularaxis\":{\"gridcolor\":\"white\",\"linecolor\":\"white\",\"ticks\":\"\"},\"bgcolor\":\"#E5ECF6\",\"radialaxis\":{\"gridcolor\":\"white\",\"linecolor\":\"white\",\"ticks\":\"\"}},\"scene\":{\"xaxis\":{\"backgroundcolor\":\"#E5ECF6\",\"gridcolor\":\"white\",\"gridwidth\":2,\"linecolor\":\"white\",\"showbackground\":true,\"ticks\":\"\",\"zerolinecolor\":\"white\"},\"yaxis\":{\"backgroundcolor\":\"#E5ECF6\",\"gridcolor\":\"white\",\"gridwidth\":2,\"linecolor\":\"white\",\"showbackground\":true,\"ticks\":\"\",\"zerolinecolor\":\"white\"},\"zaxis\":{\"backgroundcolor\":\"#E5ECF6\",\"gridcolor\":\"white\",\"gridwidth\":2,\"linecolor\":\"white\",\"showbackground\":true,\"ticks\":\"\",\"zerolinecolor\":\"white\"}},\"shapedefaults\":{\"line\":{\"color\":\"#2a3f5f\"}},\"ternary\":{\"aaxis\":{\"gridcolor\":\"white\",\"linecolor\":\"white\",\"ticks\":\"\"},\"baxis\":{\"gridcolor\":\"white\",\"linecolor\":\"white\",\"ticks\":\"\"},\"bgcolor\":\"#E5ECF6\",\"caxis\":{\"gridcolor\":\"white\",\"linecolor\":\"white\",\"ticks\":\"\"}},\"title\":{\"x\":0.05},\"xaxis\":{\"automargin\":true,\"gridcolor\":\"white\",\"linecolor\":\"white\",\"ticks\":\"\",\"title\":{\"standoff\":15},\"zerolinecolor\":\"white\",\"zerolinewidth\":2},\"yaxis\":{\"automargin\":true,\"gridcolor\":\"white\",\"linecolor\":\"white\",\"ticks\":\"\",\"title\":{\"standoff\":15},\"zerolinecolor\":\"white\",\"zerolinewidth\":2}}},\"xaxis\":{\"anchor\":\"y\",\"domain\":[0.0,1.0],\"title\":{\"text\":\"Type\"},\"categoryorder\":\"array\",\"categoryarray\":[\"unbiased\",\"zebrafish\",\"biased\"]},\"yaxis\":{\"anchor\":\"x\",\"domain\":[0.0,1.0],\"title\":{\"text\":\"Ambient assortativity\"}},\"legend\":{\"title\":{\"text\":\"Type\"},\"tracegroupgap\":0},\"margin\":{\"t\":60},\"barmode\":\"relative\",\"paper_bgcolor\":\"white\",\"plot_bgcolor\":\"white\",\"showlegend\":false,\"font\":{\"size\":20},\"width\":500,\"height\":500},                        {\"responsive\": true}                    ).then(function(){\n",
       "                            \n",
       "var gd = document.getElementById('a32393cd-3c78-46da-81d3-aa7b0d39d404');\n",
       "var x = new MutationObserver(function (mutations, observer) {{\n",
       "        var display = window.getComputedStyle(gd).display;\n",
       "        if (!display || display === 'none') {{\n",
       "            console.log([gd, 'removed!']);\n",
       "            Plotly.purge(gd);\n",
       "            observer.disconnect();\n",
       "        }}\n",
       "}});\n",
       "\n",
       "// Listen for the removal of the full notebook cells\n",
       "var notebookContainer = gd.closest('#notebook-container');\n",
       "if (notebookContainer) {{\n",
       "    x.observe(notebookContainer, {childList: true});\n",
       "}}\n",
       "\n",
       "// Listen for the clearing of the current output cell\n",
       "var outputEl = gd.closest('.output');\n",
       "if (outputEl) {{\n",
       "    x.observe(outputEl, {childList: true});\n",
       "}}\n",
       "\n",
       "                        })                };                });            </script>        </div>"
      ]
     },
     "metadata": {},
     "output_type": "display_data"
    }
   ],
   "source": [
    "AS['category'] = [str(i) for i in AS.index]\n",
    "fig = px.bar(AS, \n",
    "       x=\"Type\", \n",
    "       y=\"Ambient assortativity\", \n",
    "       color = \"Type\", \n",
    "       error_y = \"CI_highAA\", \n",
    "       error_y_minus = \"CI_lowAA\", \n",
    "       color_discrete_map = {'unbiased': '#cd34b5', 'biased': '#0064ab', 'zebrafish': '#ab7ca3'})\n",
    "\n",
    "fig.update_layout(paper_bgcolor=\"white\",\n",
    "                 plot_bgcolor=\"white\",\n",
    "                 showlegend = False,)\n",
    "\n",
    "fig.update_layout(\n",
    "    width=500, \n",
    "    height=500,\n",
    "    font=dict(size=20)\n",
    ")\n",
    "fig.write_image('AA_matr.svg')\n",
    "\n",
    "fig.show()\n"
   ]
  },
  {
   "cell_type": "code",
   "execution_count": 37,
   "id": "9c766d1d",
   "metadata": {},
   "outputs": [
    {
     "data": {
      "application/vnd.plotly.v1+json": {
       "config": {
        "plotlyServerURL": "https://plot.ly"
       },
       "data": [
        {
         "alignmentgroup": "True",
         "error_y": {
          "array": [
           0.5871292612878456
          ],
          "arrayminus": [
           0.5871292612878456
          ]
         },
         "hovertemplate": "Type=%{x}<br>Intrinsic assortativity=%{y}<extra></extra>",
         "legendgroup": "unbiased",
         "marker": {
          "color": "#cd34b5",
          "pattern": {
           "shape": ""
          }
         },
         "name": "unbiased",
         "offsetgroup": "unbiased",
         "orientation": "v",
         "showlegend": true,
         "textposition": "auto",
         "type": "bar",
         "x": [
          "unbiased"
         ],
         "xaxis": "x",
         "y": [
          17.163340490062627
         ],
         "yaxis": "y"
        },
        {
         "alignmentgroup": "True",
         "error_y": {
          "array": [
           0.9419406749758146
          ],
          "arrayminus": [
           0.9419406749758288
          ]
         },
         "hovertemplate": "Type=%{x}<br>Intrinsic assortativity=%{y}<extra></extra>",
         "legendgroup": "zebrafish",
         "marker": {
          "color": "#ab7ca3",
          "pattern": {
           "shape": ""
          }
         },
         "name": "zebrafish",
         "offsetgroup": "zebrafish",
         "orientation": "v",
         "showlegend": true,
         "textposition": "auto",
         "type": "bar",
         "x": [
          "zebrafish"
         ],
         "xaxis": "x",
         "y": [
          17.671645210242943
         ],
         "yaxis": "y"
        },
        {
         "alignmentgroup": "True",
         "error_y": {
          "array": [
           0.5866849538409085
          ],
          "arrayminus": [
           0.5866849538409156
          ]
         },
         "hovertemplate": "Type=%{x}<br>Intrinsic assortativity=%{y}<extra></extra>",
         "legendgroup": "biased",
         "marker": {
          "color": "#0064ab",
          "pattern": {
           "shape": ""
          }
         },
         "name": "biased",
         "offsetgroup": "biased",
         "orientation": "v",
         "showlegend": true,
         "textposition": "auto",
         "type": "bar",
         "x": [
          "biased"
         ],
         "xaxis": "x",
         "y": [
          17.545480006794577
         ],
         "yaxis": "y"
        }
       ],
       "layout": {
        "barmode": "relative",
        "font": {
         "size": 20
        },
        "height": 500,
        "legend": {
         "title": {
          "text": "Type"
         },
         "tracegroupgap": 0
        },
        "margin": {
         "t": 60
        },
        "paper_bgcolor": "white",
        "plot_bgcolor": "white",
        "showlegend": false,
        "template": {
         "data": {
          "bar": [
           {
            "error_x": {
             "color": "#2a3f5f"
            },
            "error_y": {
             "color": "#2a3f5f"
            },
            "marker": {
             "line": {
              "color": "#E5ECF6",
              "width": 0.5
             },
             "pattern": {
              "fillmode": "overlay",
              "size": 10,
              "solidity": 0.2
             }
            },
            "type": "bar"
           }
          ],
          "barpolar": [
           {
            "marker": {
             "line": {
              "color": "#E5ECF6",
              "width": 0.5
             },
             "pattern": {
              "fillmode": "overlay",
              "size": 10,
              "solidity": 0.2
             }
            },
            "type": "barpolar"
           }
          ],
          "carpet": [
           {
            "aaxis": {
             "endlinecolor": "#2a3f5f",
             "gridcolor": "white",
             "linecolor": "white",
             "minorgridcolor": "white",
             "startlinecolor": "#2a3f5f"
            },
            "baxis": {
             "endlinecolor": "#2a3f5f",
             "gridcolor": "white",
             "linecolor": "white",
             "minorgridcolor": "white",
             "startlinecolor": "#2a3f5f"
            },
            "type": "carpet"
           }
          ],
          "choropleth": [
           {
            "colorbar": {
             "outlinewidth": 0,
             "ticks": ""
            },
            "type": "choropleth"
           }
          ],
          "contour": [
           {
            "colorbar": {
             "outlinewidth": 0,
             "ticks": ""
            },
            "colorscale": [
             [
              0,
              "#0d0887"
             ],
             [
              0.1111111111111111,
              "#46039f"
             ],
             [
              0.2222222222222222,
              "#7201a8"
             ],
             [
              0.3333333333333333,
              "#9c179e"
             ],
             [
              0.4444444444444444,
              "#bd3786"
             ],
             [
              0.5555555555555556,
              "#d8576b"
             ],
             [
              0.6666666666666666,
              "#ed7953"
             ],
             [
              0.7777777777777778,
              "#fb9f3a"
             ],
             [
              0.8888888888888888,
              "#fdca26"
             ],
             [
              1,
              "#f0f921"
             ]
            ],
            "type": "contour"
           }
          ],
          "contourcarpet": [
           {
            "colorbar": {
             "outlinewidth": 0,
             "ticks": ""
            },
            "type": "contourcarpet"
           }
          ],
          "heatmap": [
           {
            "colorbar": {
             "outlinewidth": 0,
             "ticks": ""
            },
            "colorscale": [
             [
              0,
              "#0d0887"
             ],
             [
              0.1111111111111111,
              "#46039f"
             ],
             [
              0.2222222222222222,
              "#7201a8"
             ],
             [
              0.3333333333333333,
              "#9c179e"
             ],
             [
              0.4444444444444444,
              "#bd3786"
             ],
             [
              0.5555555555555556,
              "#d8576b"
             ],
             [
              0.6666666666666666,
              "#ed7953"
             ],
             [
              0.7777777777777778,
              "#fb9f3a"
             ],
             [
              0.8888888888888888,
              "#fdca26"
             ],
             [
              1,
              "#f0f921"
             ]
            ],
            "type": "heatmap"
           }
          ],
          "heatmapgl": [
           {
            "colorbar": {
             "outlinewidth": 0,
             "ticks": ""
            },
            "colorscale": [
             [
              0,
              "#0d0887"
             ],
             [
              0.1111111111111111,
              "#46039f"
             ],
             [
              0.2222222222222222,
              "#7201a8"
             ],
             [
              0.3333333333333333,
              "#9c179e"
             ],
             [
              0.4444444444444444,
              "#bd3786"
             ],
             [
              0.5555555555555556,
              "#d8576b"
             ],
             [
              0.6666666666666666,
              "#ed7953"
             ],
             [
              0.7777777777777778,
              "#fb9f3a"
             ],
             [
              0.8888888888888888,
              "#fdca26"
             ],
             [
              1,
              "#f0f921"
             ]
            ],
            "type": "heatmapgl"
           }
          ],
          "histogram": [
           {
            "marker": {
             "pattern": {
              "fillmode": "overlay",
              "size": 10,
              "solidity": 0.2
             }
            },
            "type": "histogram"
           }
          ],
          "histogram2d": [
           {
            "colorbar": {
             "outlinewidth": 0,
             "ticks": ""
            },
            "colorscale": [
             [
              0,
              "#0d0887"
             ],
             [
              0.1111111111111111,
              "#46039f"
             ],
             [
              0.2222222222222222,
              "#7201a8"
             ],
             [
              0.3333333333333333,
              "#9c179e"
             ],
             [
              0.4444444444444444,
              "#bd3786"
             ],
             [
              0.5555555555555556,
              "#d8576b"
             ],
             [
              0.6666666666666666,
              "#ed7953"
             ],
             [
              0.7777777777777778,
              "#fb9f3a"
             ],
             [
              0.8888888888888888,
              "#fdca26"
             ],
             [
              1,
              "#f0f921"
             ]
            ],
            "type": "histogram2d"
           }
          ],
          "histogram2dcontour": [
           {
            "colorbar": {
             "outlinewidth": 0,
             "ticks": ""
            },
            "colorscale": [
             [
              0,
              "#0d0887"
             ],
             [
              0.1111111111111111,
              "#46039f"
             ],
             [
              0.2222222222222222,
              "#7201a8"
             ],
             [
              0.3333333333333333,
              "#9c179e"
             ],
             [
              0.4444444444444444,
              "#bd3786"
             ],
             [
              0.5555555555555556,
              "#d8576b"
             ],
             [
              0.6666666666666666,
              "#ed7953"
             ],
             [
              0.7777777777777778,
              "#fb9f3a"
             ],
             [
              0.8888888888888888,
              "#fdca26"
             ],
             [
              1,
              "#f0f921"
             ]
            ],
            "type": "histogram2dcontour"
           }
          ],
          "mesh3d": [
           {
            "colorbar": {
             "outlinewidth": 0,
             "ticks": ""
            },
            "type": "mesh3d"
           }
          ],
          "parcoords": [
           {
            "line": {
             "colorbar": {
              "outlinewidth": 0,
              "ticks": ""
             }
            },
            "type": "parcoords"
           }
          ],
          "pie": [
           {
            "automargin": true,
            "type": "pie"
           }
          ],
          "scatter": [
           {
            "marker": {
             "colorbar": {
              "outlinewidth": 0,
              "ticks": ""
             }
            },
            "type": "scatter"
           }
          ],
          "scatter3d": [
           {
            "line": {
             "colorbar": {
              "outlinewidth": 0,
              "ticks": ""
             }
            },
            "marker": {
             "colorbar": {
              "outlinewidth": 0,
              "ticks": ""
             }
            },
            "type": "scatter3d"
           }
          ],
          "scattercarpet": [
           {
            "marker": {
             "colorbar": {
              "outlinewidth": 0,
              "ticks": ""
             }
            },
            "type": "scattercarpet"
           }
          ],
          "scattergeo": [
           {
            "marker": {
             "colorbar": {
              "outlinewidth": 0,
              "ticks": ""
             }
            },
            "type": "scattergeo"
           }
          ],
          "scattergl": [
           {
            "marker": {
             "colorbar": {
              "outlinewidth": 0,
              "ticks": ""
             }
            },
            "type": "scattergl"
           }
          ],
          "scattermapbox": [
           {
            "marker": {
             "colorbar": {
              "outlinewidth": 0,
              "ticks": ""
             }
            },
            "type": "scattermapbox"
           }
          ],
          "scatterpolar": [
           {
            "marker": {
             "colorbar": {
              "outlinewidth": 0,
              "ticks": ""
             }
            },
            "type": "scatterpolar"
           }
          ],
          "scatterpolargl": [
           {
            "marker": {
             "colorbar": {
              "outlinewidth": 0,
              "ticks": ""
             }
            },
            "type": "scatterpolargl"
           }
          ],
          "scatterternary": [
           {
            "marker": {
             "colorbar": {
              "outlinewidth": 0,
              "ticks": ""
             }
            },
            "type": "scatterternary"
           }
          ],
          "surface": [
           {
            "colorbar": {
             "outlinewidth": 0,
             "ticks": ""
            },
            "colorscale": [
             [
              0,
              "#0d0887"
             ],
             [
              0.1111111111111111,
              "#46039f"
             ],
             [
              0.2222222222222222,
              "#7201a8"
             ],
             [
              0.3333333333333333,
              "#9c179e"
             ],
             [
              0.4444444444444444,
              "#bd3786"
             ],
             [
              0.5555555555555556,
              "#d8576b"
             ],
             [
              0.6666666666666666,
              "#ed7953"
             ],
             [
              0.7777777777777778,
              "#fb9f3a"
             ],
             [
              0.8888888888888888,
              "#fdca26"
             ],
             [
              1,
              "#f0f921"
             ]
            ],
            "type": "surface"
           }
          ],
          "table": [
           {
            "cells": {
             "fill": {
              "color": "#EBF0F8"
             },
             "line": {
              "color": "white"
             }
            },
            "header": {
             "fill": {
              "color": "#C8D4E3"
             },
             "line": {
              "color": "white"
             }
            },
            "type": "table"
           }
          ]
         },
         "layout": {
          "annotationdefaults": {
           "arrowcolor": "#2a3f5f",
           "arrowhead": 0,
           "arrowwidth": 1
          },
          "autotypenumbers": "strict",
          "coloraxis": {
           "colorbar": {
            "outlinewidth": 0,
            "ticks": ""
           }
          },
          "colorscale": {
           "diverging": [
            [
             0,
             "#8e0152"
            ],
            [
             0.1,
             "#c51b7d"
            ],
            [
             0.2,
             "#de77ae"
            ],
            [
             0.3,
             "#f1b6da"
            ],
            [
             0.4,
             "#fde0ef"
            ],
            [
             0.5,
             "#f7f7f7"
            ],
            [
             0.6,
             "#e6f5d0"
            ],
            [
             0.7,
             "#b8e186"
            ],
            [
             0.8,
             "#7fbc41"
            ],
            [
             0.9,
             "#4d9221"
            ],
            [
             1,
             "#276419"
            ]
           ],
           "sequential": [
            [
             0,
             "#0d0887"
            ],
            [
             0.1111111111111111,
             "#46039f"
            ],
            [
             0.2222222222222222,
             "#7201a8"
            ],
            [
             0.3333333333333333,
             "#9c179e"
            ],
            [
             0.4444444444444444,
             "#bd3786"
            ],
            [
             0.5555555555555556,
             "#d8576b"
            ],
            [
             0.6666666666666666,
             "#ed7953"
            ],
            [
             0.7777777777777778,
             "#fb9f3a"
            ],
            [
             0.8888888888888888,
             "#fdca26"
            ],
            [
             1,
             "#f0f921"
            ]
           ],
           "sequentialminus": [
            [
             0,
             "#0d0887"
            ],
            [
             0.1111111111111111,
             "#46039f"
            ],
            [
             0.2222222222222222,
             "#7201a8"
            ],
            [
             0.3333333333333333,
             "#9c179e"
            ],
            [
             0.4444444444444444,
             "#bd3786"
            ],
            [
             0.5555555555555556,
             "#d8576b"
            ],
            [
             0.6666666666666666,
             "#ed7953"
            ],
            [
             0.7777777777777778,
             "#fb9f3a"
            ],
            [
             0.8888888888888888,
             "#fdca26"
            ],
            [
             1,
             "#f0f921"
            ]
           ]
          },
          "colorway": [
           "#636efa",
           "#EF553B",
           "#00cc96",
           "#ab63fa",
           "#FFA15A",
           "#19d3f3",
           "#FF6692",
           "#B6E880",
           "#FF97FF",
           "#FECB52"
          ],
          "font": {
           "color": "#2a3f5f"
          },
          "geo": {
           "bgcolor": "white",
           "lakecolor": "white",
           "landcolor": "#E5ECF6",
           "showlakes": true,
           "showland": true,
           "subunitcolor": "white"
          },
          "hoverlabel": {
           "align": "left"
          },
          "hovermode": "closest",
          "mapbox": {
           "style": "light"
          },
          "paper_bgcolor": "white",
          "plot_bgcolor": "#E5ECF6",
          "polar": {
           "angularaxis": {
            "gridcolor": "white",
            "linecolor": "white",
            "ticks": ""
           },
           "bgcolor": "#E5ECF6",
           "radialaxis": {
            "gridcolor": "white",
            "linecolor": "white",
            "ticks": ""
           }
          },
          "scene": {
           "xaxis": {
            "backgroundcolor": "#E5ECF6",
            "gridcolor": "white",
            "gridwidth": 2,
            "linecolor": "white",
            "showbackground": true,
            "ticks": "",
            "zerolinecolor": "white"
           },
           "yaxis": {
            "backgroundcolor": "#E5ECF6",
            "gridcolor": "white",
            "gridwidth": 2,
            "linecolor": "white",
            "showbackground": true,
            "ticks": "",
            "zerolinecolor": "white"
           },
           "zaxis": {
            "backgroundcolor": "#E5ECF6",
            "gridcolor": "white",
            "gridwidth": 2,
            "linecolor": "white",
            "showbackground": true,
            "ticks": "",
            "zerolinecolor": "white"
           }
          },
          "shapedefaults": {
           "line": {
            "color": "#2a3f5f"
           }
          },
          "ternary": {
           "aaxis": {
            "gridcolor": "white",
            "linecolor": "white",
            "ticks": ""
           },
           "baxis": {
            "gridcolor": "white",
            "linecolor": "white",
            "ticks": ""
           },
           "bgcolor": "#E5ECF6",
           "caxis": {
            "gridcolor": "white",
            "linecolor": "white",
            "ticks": ""
           }
          },
          "title": {
           "x": 0.05
          },
          "xaxis": {
           "automargin": true,
           "gridcolor": "white",
           "linecolor": "white",
           "ticks": "",
           "title": {
            "standoff": 15
           },
           "zerolinecolor": "white",
           "zerolinewidth": 2
          },
          "yaxis": {
           "automargin": true,
           "gridcolor": "white",
           "linecolor": "white",
           "ticks": "",
           "title": {
            "standoff": 15
           },
           "zerolinecolor": "white",
           "zerolinewidth": 2
          }
         }
        },
        "width": 500,
        "xaxis": {
         "anchor": "y",
         "categoryarray": [
          "unbiased",
          "zebrafish",
          "biased"
         ],
         "categoryorder": "array",
         "domain": [
          0,
          1
         ],
         "title": {
          "text": "Type"
         }
        },
        "yaxis": {
         "anchor": "x",
         "domain": [
          0,
          1
         ],
         "title": {
          "text": "Intrinsic assortativity"
         }
        }
       }
      },
      "text/html": [
       "<div>                            <div id=\"ec8b0616-7e59-415f-8104-44156f1b166d\" class=\"plotly-graph-div\" style=\"height:500px; width:500px;\"></div>            <script type=\"text/javascript\">                require([\"plotly\"], function(Plotly) {                    window.PLOTLYENV=window.PLOTLYENV || {};                                    if (document.getElementById(\"ec8b0616-7e59-415f-8104-44156f1b166d\")) {                    Plotly.newPlot(                        \"ec8b0616-7e59-415f-8104-44156f1b166d\",                        [{\"alignmentgroup\":\"True\",\"error_y\":{\"array\":[0.5871292612878456],\"arrayminus\":[0.5871292612878456]},\"hovertemplate\":\"Type=%{x}<br>Intrinsic assortativity=%{y}<extra></extra>\",\"legendgroup\":\"unbiased\",\"marker\":{\"color\":\"#cd34b5\",\"pattern\":{\"shape\":\"\"}},\"name\":\"unbiased\",\"offsetgroup\":\"unbiased\",\"orientation\":\"v\",\"showlegend\":true,\"textposition\":\"auto\",\"x\":[\"unbiased\"],\"xaxis\":\"x\",\"y\":[17.163340490062627],\"yaxis\":\"y\",\"type\":\"bar\"},{\"alignmentgroup\":\"True\",\"error_y\":{\"array\":[0.9419406749758146],\"arrayminus\":[0.9419406749758288]},\"hovertemplate\":\"Type=%{x}<br>Intrinsic assortativity=%{y}<extra></extra>\",\"legendgroup\":\"zebrafish\",\"marker\":{\"color\":\"#ab7ca3\",\"pattern\":{\"shape\":\"\"}},\"name\":\"zebrafish\",\"offsetgroup\":\"zebrafish\",\"orientation\":\"v\",\"showlegend\":true,\"textposition\":\"auto\",\"x\":[\"zebrafish\"],\"xaxis\":\"x\",\"y\":[17.671645210242943],\"yaxis\":\"y\",\"type\":\"bar\"},{\"alignmentgroup\":\"True\",\"error_y\":{\"array\":[0.5866849538409085],\"arrayminus\":[0.5866849538409156]},\"hovertemplate\":\"Type=%{x}<br>Intrinsic assortativity=%{y}<extra></extra>\",\"legendgroup\":\"biased\",\"marker\":{\"color\":\"#0064ab\",\"pattern\":{\"shape\":\"\"}},\"name\":\"biased\",\"offsetgroup\":\"biased\",\"orientation\":\"v\",\"showlegend\":true,\"textposition\":\"auto\",\"x\":[\"biased\"],\"xaxis\":\"x\",\"y\":[17.545480006794577],\"yaxis\":\"y\",\"type\":\"bar\"}],                        {\"template\":{\"data\":{\"bar\":[{\"error_x\":{\"color\":\"#2a3f5f\"},\"error_y\":{\"color\":\"#2a3f5f\"},\"marker\":{\"line\":{\"color\":\"#E5ECF6\",\"width\":0.5},\"pattern\":{\"fillmode\":\"overlay\",\"size\":10,\"solidity\":0.2}},\"type\":\"bar\"}],\"barpolar\":[{\"marker\":{\"line\":{\"color\":\"#E5ECF6\",\"width\":0.5},\"pattern\":{\"fillmode\":\"overlay\",\"size\":10,\"solidity\":0.2}},\"type\":\"barpolar\"}],\"carpet\":[{\"aaxis\":{\"endlinecolor\":\"#2a3f5f\",\"gridcolor\":\"white\",\"linecolor\":\"white\",\"minorgridcolor\":\"white\",\"startlinecolor\":\"#2a3f5f\"},\"baxis\":{\"endlinecolor\":\"#2a3f5f\",\"gridcolor\":\"white\",\"linecolor\":\"white\",\"minorgridcolor\":\"white\",\"startlinecolor\":\"#2a3f5f\"},\"type\":\"carpet\"}],\"choropleth\":[{\"colorbar\":{\"outlinewidth\":0,\"ticks\":\"\"},\"type\":\"choropleth\"}],\"contour\":[{\"colorbar\":{\"outlinewidth\":0,\"ticks\":\"\"},\"colorscale\":[[0.0,\"#0d0887\"],[0.1111111111111111,\"#46039f\"],[0.2222222222222222,\"#7201a8\"],[0.3333333333333333,\"#9c179e\"],[0.4444444444444444,\"#bd3786\"],[0.5555555555555556,\"#d8576b\"],[0.6666666666666666,\"#ed7953\"],[0.7777777777777778,\"#fb9f3a\"],[0.8888888888888888,\"#fdca26\"],[1.0,\"#f0f921\"]],\"type\":\"contour\"}],\"contourcarpet\":[{\"colorbar\":{\"outlinewidth\":0,\"ticks\":\"\"},\"type\":\"contourcarpet\"}],\"heatmap\":[{\"colorbar\":{\"outlinewidth\":0,\"ticks\":\"\"},\"colorscale\":[[0.0,\"#0d0887\"],[0.1111111111111111,\"#46039f\"],[0.2222222222222222,\"#7201a8\"],[0.3333333333333333,\"#9c179e\"],[0.4444444444444444,\"#bd3786\"],[0.5555555555555556,\"#d8576b\"],[0.6666666666666666,\"#ed7953\"],[0.7777777777777778,\"#fb9f3a\"],[0.8888888888888888,\"#fdca26\"],[1.0,\"#f0f921\"]],\"type\":\"heatmap\"}],\"heatmapgl\":[{\"colorbar\":{\"outlinewidth\":0,\"ticks\":\"\"},\"colorscale\":[[0.0,\"#0d0887\"],[0.1111111111111111,\"#46039f\"],[0.2222222222222222,\"#7201a8\"],[0.3333333333333333,\"#9c179e\"],[0.4444444444444444,\"#bd3786\"],[0.5555555555555556,\"#d8576b\"],[0.6666666666666666,\"#ed7953\"],[0.7777777777777778,\"#fb9f3a\"],[0.8888888888888888,\"#fdca26\"],[1.0,\"#f0f921\"]],\"type\":\"heatmapgl\"}],\"histogram\":[{\"marker\":{\"pattern\":{\"fillmode\":\"overlay\",\"size\":10,\"solidity\":0.2}},\"type\":\"histogram\"}],\"histogram2d\":[{\"colorbar\":{\"outlinewidth\":0,\"ticks\":\"\"},\"colorscale\":[[0.0,\"#0d0887\"],[0.1111111111111111,\"#46039f\"],[0.2222222222222222,\"#7201a8\"],[0.3333333333333333,\"#9c179e\"],[0.4444444444444444,\"#bd3786\"],[0.5555555555555556,\"#d8576b\"],[0.6666666666666666,\"#ed7953\"],[0.7777777777777778,\"#fb9f3a\"],[0.8888888888888888,\"#fdca26\"],[1.0,\"#f0f921\"]],\"type\":\"histogram2d\"}],\"histogram2dcontour\":[{\"colorbar\":{\"outlinewidth\":0,\"ticks\":\"\"},\"colorscale\":[[0.0,\"#0d0887\"],[0.1111111111111111,\"#46039f\"],[0.2222222222222222,\"#7201a8\"],[0.3333333333333333,\"#9c179e\"],[0.4444444444444444,\"#bd3786\"],[0.5555555555555556,\"#d8576b\"],[0.6666666666666666,\"#ed7953\"],[0.7777777777777778,\"#fb9f3a\"],[0.8888888888888888,\"#fdca26\"],[1.0,\"#f0f921\"]],\"type\":\"histogram2dcontour\"}],\"mesh3d\":[{\"colorbar\":{\"outlinewidth\":0,\"ticks\":\"\"},\"type\":\"mesh3d\"}],\"parcoords\":[{\"line\":{\"colorbar\":{\"outlinewidth\":0,\"ticks\":\"\"}},\"type\":\"parcoords\"}],\"pie\":[{\"automargin\":true,\"type\":\"pie\"}],\"scatter\":[{\"marker\":{\"colorbar\":{\"outlinewidth\":0,\"ticks\":\"\"}},\"type\":\"scatter\"}],\"scatter3d\":[{\"line\":{\"colorbar\":{\"outlinewidth\":0,\"ticks\":\"\"}},\"marker\":{\"colorbar\":{\"outlinewidth\":0,\"ticks\":\"\"}},\"type\":\"scatter3d\"}],\"scattercarpet\":[{\"marker\":{\"colorbar\":{\"outlinewidth\":0,\"ticks\":\"\"}},\"type\":\"scattercarpet\"}],\"scattergeo\":[{\"marker\":{\"colorbar\":{\"outlinewidth\":0,\"ticks\":\"\"}},\"type\":\"scattergeo\"}],\"scattergl\":[{\"marker\":{\"colorbar\":{\"outlinewidth\":0,\"ticks\":\"\"}},\"type\":\"scattergl\"}],\"scattermapbox\":[{\"marker\":{\"colorbar\":{\"outlinewidth\":0,\"ticks\":\"\"}},\"type\":\"scattermapbox\"}],\"scatterpolar\":[{\"marker\":{\"colorbar\":{\"outlinewidth\":0,\"ticks\":\"\"}},\"type\":\"scatterpolar\"}],\"scatterpolargl\":[{\"marker\":{\"colorbar\":{\"outlinewidth\":0,\"ticks\":\"\"}},\"type\":\"scatterpolargl\"}],\"scatterternary\":[{\"marker\":{\"colorbar\":{\"outlinewidth\":0,\"ticks\":\"\"}},\"type\":\"scatterternary\"}],\"surface\":[{\"colorbar\":{\"outlinewidth\":0,\"ticks\":\"\"},\"colorscale\":[[0.0,\"#0d0887\"],[0.1111111111111111,\"#46039f\"],[0.2222222222222222,\"#7201a8\"],[0.3333333333333333,\"#9c179e\"],[0.4444444444444444,\"#bd3786\"],[0.5555555555555556,\"#d8576b\"],[0.6666666666666666,\"#ed7953\"],[0.7777777777777778,\"#fb9f3a\"],[0.8888888888888888,\"#fdca26\"],[1.0,\"#f0f921\"]],\"type\":\"surface\"}],\"table\":[{\"cells\":{\"fill\":{\"color\":\"#EBF0F8\"},\"line\":{\"color\":\"white\"}},\"header\":{\"fill\":{\"color\":\"#C8D4E3\"},\"line\":{\"color\":\"white\"}},\"type\":\"table\"}]},\"layout\":{\"annotationdefaults\":{\"arrowcolor\":\"#2a3f5f\",\"arrowhead\":0,\"arrowwidth\":1},\"autotypenumbers\":\"strict\",\"coloraxis\":{\"colorbar\":{\"outlinewidth\":0,\"ticks\":\"\"}},\"colorscale\":{\"diverging\":[[0,\"#8e0152\"],[0.1,\"#c51b7d\"],[0.2,\"#de77ae\"],[0.3,\"#f1b6da\"],[0.4,\"#fde0ef\"],[0.5,\"#f7f7f7\"],[0.6,\"#e6f5d0\"],[0.7,\"#b8e186\"],[0.8,\"#7fbc41\"],[0.9,\"#4d9221\"],[1,\"#276419\"]],\"sequential\":[[0.0,\"#0d0887\"],[0.1111111111111111,\"#46039f\"],[0.2222222222222222,\"#7201a8\"],[0.3333333333333333,\"#9c179e\"],[0.4444444444444444,\"#bd3786\"],[0.5555555555555556,\"#d8576b\"],[0.6666666666666666,\"#ed7953\"],[0.7777777777777778,\"#fb9f3a\"],[0.8888888888888888,\"#fdca26\"],[1.0,\"#f0f921\"]],\"sequentialminus\":[[0.0,\"#0d0887\"],[0.1111111111111111,\"#46039f\"],[0.2222222222222222,\"#7201a8\"],[0.3333333333333333,\"#9c179e\"],[0.4444444444444444,\"#bd3786\"],[0.5555555555555556,\"#d8576b\"],[0.6666666666666666,\"#ed7953\"],[0.7777777777777778,\"#fb9f3a\"],[0.8888888888888888,\"#fdca26\"],[1.0,\"#f0f921\"]]},\"colorway\":[\"#636efa\",\"#EF553B\",\"#00cc96\",\"#ab63fa\",\"#FFA15A\",\"#19d3f3\",\"#FF6692\",\"#B6E880\",\"#FF97FF\",\"#FECB52\"],\"font\":{\"color\":\"#2a3f5f\"},\"geo\":{\"bgcolor\":\"white\",\"lakecolor\":\"white\",\"landcolor\":\"#E5ECF6\",\"showlakes\":true,\"showland\":true,\"subunitcolor\":\"white\"},\"hoverlabel\":{\"align\":\"left\"},\"hovermode\":\"closest\",\"mapbox\":{\"style\":\"light\"},\"paper_bgcolor\":\"white\",\"plot_bgcolor\":\"#E5ECF6\",\"polar\":{\"angularaxis\":{\"gridcolor\":\"white\",\"linecolor\":\"white\",\"ticks\":\"\"},\"bgcolor\":\"#E5ECF6\",\"radialaxis\":{\"gridcolor\":\"white\",\"linecolor\":\"white\",\"ticks\":\"\"}},\"scene\":{\"xaxis\":{\"backgroundcolor\":\"#E5ECF6\",\"gridcolor\":\"white\",\"gridwidth\":2,\"linecolor\":\"white\",\"showbackground\":true,\"ticks\":\"\",\"zerolinecolor\":\"white\"},\"yaxis\":{\"backgroundcolor\":\"#E5ECF6\",\"gridcolor\":\"white\",\"gridwidth\":2,\"linecolor\":\"white\",\"showbackground\":true,\"ticks\":\"\",\"zerolinecolor\":\"white\"},\"zaxis\":{\"backgroundcolor\":\"#E5ECF6\",\"gridcolor\":\"white\",\"gridwidth\":2,\"linecolor\":\"white\",\"showbackground\":true,\"ticks\":\"\",\"zerolinecolor\":\"white\"}},\"shapedefaults\":{\"line\":{\"color\":\"#2a3f5f\"}},\"ternary\":{\"aaxis\":{\"gridcolor\":\"white\",\"linecolor\":\"white\",\"ticks\":\"\"},\"baxis\":{\"gridcolor\":\"white\",\"linecolor\":\"white\",\"ticks\":\"\"},\"bgcolor\":\"#E5ECF6\",\"caxis\":{\"gridcolor\":\"white\",\"linecolor\":\"white\",\"ticks\":\"\"}},\"title\":{\"x\":0.05},\"xaxis\":{\"automargin\":true,\"gridcolor\":\"white\",\"linecolor\":\"white\",\"ticks\":\"\",\"title\":{\"standoff\":15},\"zerolinecolor\":\"white\",\"zerolinewidth\":2},\"yaxis\":{\"automargin\":true,\"gridcolor\":\"white\",\"linecolor\":\"white\",\"ticks\":\"\",\"title\":{\"standoff\":15},\"zerolinecolor\":\"white\",\"zerolinewidth\":2}}},\"xaxis\":{\"anchor\":\"y\",\"domain\":[0.0,1.0],\"title\":{\"text\":\"Type\"},\"categoryorder\":\"array\",\"categoryarray\":[\"unbiased\",\"zebrafish\",\"biased\"]},\"yaxis\":{\"anchor\":\"x\",\"domain\":[0.0,1.0],\"title\":{\"text\":\"Intrinsic assortativity\"}},\"legend\":{\"title\":{\"text\":\"Type\"},\"tracegroupgap\":0},\"margin\":{\"t\":60},\"barmode\":\"relative\",\"paper_bgcolor\":\"white\",\"plot_bgcolor\":\"white\",\"showlegend\":false,\"font\":{\"size\":20},\"width\":500,\"height\":500},                        {\"responsive\": true}                    ).then(function(){\n",
       "                            \n",
       "var gd = document.getElementById('ec8b0616-7e59-415f-8104-44156f1b166d');\n",
       "var x = new MutationObserver(function (mutations, observer) {{\n",
       "        var display = window.getComputedStyle(gd).display;\n",
       "        if (!display || display === 'none') {{\n",
       "            console.log([gd, 'removed!']);\n",
       "            Plotly.purge(gd);\n",
       "            observer.disconnect();\n",
       "        }}\n",
       "}});\n",
       "\n",
       "// Listen for the removal of the full notebook cells\n",
       "var notebookContainer = gd.closest('#notebook-container');\n",
       "if (notebookContainer) {{\n",
       "    x.observe(notebookContainer, {childList: true});\n",
       "}}\n",
       "\n",
       "// Listen for the clearing of the current output cell\n",
       "var outputEl = gd.closest('.output');\n",
       "if (outputEl) {{\n",
       "    x.observe(outputEl, {childList: true});\n",
       "}}\n",
       "\n",
       "                        })                };                });            </script>        </div>"
      ]
     },
     "metadata": {},
     "output_type": "display_data"
    }
   ],
   "source": [
    "AS['category'] = [str(i) for i in AS.index]\n",
    "fig = px.bar(AS, \n",
    "       x=\"Type\", \n",
    "       y=\"Intrinsic assortativity\", \n",
    "       color = \"Type\", \n",
    "       error_y = \"CI_highIA\", \n",
    "       error_y_minus = \"CI_lowIA\", \n",
    "       color_discrete_map = {'unbiased': '#cd34b5', 'biased': '#0064ab', 'zebrafish': '#ab7ca3'})\n",
    "\n",
    "fig.update_layout(paper_bgcolor=\"white\",\n",
    "                 plot_bgcolor=\"white\",\n",
    "                 showlegend = False,)\n",
    "\n",
    "fig.update_layout(\n",
    "    width=500, \n",
    "    height=500,\n",
    "    font=dict(size=20)\n",
    ")\n",
    "fig.write_image('IA_matr.svg')\n",
    "\n",
    "fig.show()\n"
   ]
  },
  {
   "cell_type": "code",
   "execution_count": null,
   "id": "5805ddda",
   "metadata": {},
   "outputs": [],
   "source": [
    "B = Df.loc[Df['Type'] == 'biased']\n",
    "U = Df.loc[Df['Type'] == 'unbiased']\n",
    "Z = Df.loc[Df['Type'] == 'zebrafish']\n",
    "BB,UU,ZZ = [],[],[]\n",
    "\n",
    "\n",
    "\n",
    "for M in['Size','ROG','Life Span']:\n",
    "    for el in B[M]:\n",
    "        BB.append(el)\n",
    "    for el in U[M]:\n",
    "        UU.append(el)\n",
    "    for el in Z[M]:\n",
    "        ZZ.append(el)\n",
    "    \n",
    "\n",
    "\n",
    "\n",
    "B = DDf_b_o.loc[DDf_b_o['Type'] == 'biased']\n",
    "U = DDf_b_o.loc[DDf_b_o['Type'] == 'unbiased']\n",
    "Z = DDf_b_o.loc[DDf_b_o['Type'] == 'zebrafish']\n",
    "M = 'Overlap'\n",
    "\n",
    "for el in B[M]:\n",
    "    BB.append(el)\n",
    "for el in U[M]:\n",
    "    UU.append(el)\n",
    "for el in Z[M]:\n",
    "    ZZ.append(el)\n",
    "\n",
    "M,N = np.zeros((3,3)),np.zeros((3,3))\n",
    "ALL = [UU,BB,ZZ]\n",
    "for a in ALL:\n",
    "    for b in ALL:\n",
    "        M[ALL.index(a),ALL.index(b)] = mannwhitneyu(a,b, alternative = 'two-sided')[1]\n",
    "        N[ALL.index(a),ALL.index(b)]= kstest(a,b)[1]\n",
    "\n"
   ]
  },
  {
   "cell_type": "markdown",
   "id": "090c7ff6",
   "metadata": {},
   "source": [
    "### Statistical tests on communities distributions: \n",
    "1) Significant differences between unbiased and biased tracks\n",
    "\n",
    "2) Significant differences between unbiased and zebrafish tracks.\n",
    "\n",
    "3) The hypothesis that biased and zebrafish tracks are different is rejected."
   ]
  },
  {
   "cell_type": "code",
   "execution_count": null,
   "id": "e9a03c63",
   "metadata": {},
   "outputs": [],
   "source": [
    "fig = px.imshow(M, color_continuous_scale = 'purples',\n",
    "          text_auto='.2e')\n",
    "fig.update_coloraxes(showscale=False)\n",
    "fig.update_layout(yaxis = dict(\n",
    "        tickmode = 'array',\n",
    "        tickvals = [0,1,2,3,4],\n",
    "    \n",
    "        ticktext = ['Unbiased','Biased','Zebrafish']\n",
    "    ),\n",
    "        xaxis = dict(\n",
    "        tickmode = 'array',\n",
    "        tickvals = [0,1,2,3,4],\n",
    "    \n",
    "        ticktext = ['Unbiased','Biased','Zebrafish']\n",
    "    ))\n",
    "\n",
    "fig.show()"
   ]
  },
  {
   "cell_type": "code",
   "execution_count": null,
   "id": "77dbf4c6",
   "metadata": {},
   "outputs": [],
   "source": [
    "fig = px.imshow(N, color_continuous_scale = 'purples',\n",
    "          text_auto='.2e')\n",
    "fig.update_coloraxes(showscale=False)\n",
    "fig.update_layout(yaxis = dict(\n",
    "        tickmode = 'array',\n",
    "        tickvals = [0,1,2,3,4],\n",
    "    \n",
    "        ticktext = ['Unbiased','Biased','Zebrafish']\n",
    "    ),\n",
    "        xaxis = dict(\n",
    "        tickmode = 'array',\n",
    "        tickvals = [0,1,2,3,4],\n",
    "    \n",
    "        ticktext = ['Unbiased','Biased','Zebrafish']\n",
    "    ))\n",
    "\n",
    "\n",
    "fig.write_image('heat_matroid.svg')\n",
    "\n",
    "fig.show()"
   ]
  },
  {
   "cell_type": "markdown",
   "id": "5799999c",
   "metadata": {},
   "source": [
    "# Nematodes trajectories"
   ]
  },
  {
   "cell_type": "code",
   "execution_count": null,
   "id": "b9246295",
   "metadata": {},
   "outputs": [],
   "source": [
    "for i in range(6):\n",
    "    fig = plot_chain_with_centrality('nematode_{}'.format(i),'nematodes')\n",
    "    fig.write_image('nematode_{}_matr.svg'.format(i))\n",
    "    fig.show()"
   ]
  },
  {
   "cell_type": "code",
   "execution_count": null,
   "id": "775f3624",
   "metadata": {},
   "outputs": [],
   "source": [
    "for i in range(6):\n",
    "    fig = plot_chain_with_communities('nematode_{}'.format(i),'nematodes')\n",
    "    fig.write_image('nematode_{}_matr_comms.svg'.format(i))\n",
    "    fig.show()"
   ]
  },
  {
   "cell_type": "code",
   "execution_count": null,
   "id": "208046b7",
   "metadata": {},
   "outputs": [],
   "source": []
  },
  {
   "cell_type": "code",
   "execution_count": null,
   "id": "c058031f",
   "metadata": {},
   "outputs": [],
   "source": []
  },
  {
   "cell_type": "code",
   "execution_count": null,
   "id": "22ca4c15",
   "metadata": {},
   "outputs": [],
   "source": []
  },
  {
   "cell_type": "code",
   "execution_count": null,
   "id": "c192e4e0",
   "metadata": {},
   "outputs": [],
   "source": []
  }
 ],
 "metadata": {
  "@webio": {
   "lastCommId": null,
   "lastKernelId": null
  },
  "kernelspec": {
   "display_name": "Python 3 (ipykernel)",
   "language": "python",
   "name": "python3"
  },
  "language_info": {
   "codemirror_mode": {
    "name": "ipython",
    "version": 3
   },
   "file_extension": ".py",
   "mimetype": "text/x-python",
   "name": "python",
   "nbconvert_exporter": "python",
   "pygments_lexer": "ipython3",
   "version": "3.9.7"
  }
 },
 "nbformat": 4,
 "nbformat_minor": 5
}
