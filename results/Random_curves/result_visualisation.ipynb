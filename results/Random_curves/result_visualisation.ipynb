{
 "cells": [
  {
   "cell_type": "code",
   "execution_count": 6,
   "id": "2c43dffc",
   "metadata": {},
   "outputs": [],
   "source": [
    "import numpy as np\n",
    "import pandas as pd\n",
    "import plotly.graph_objects as go\n",
    "import plotly\n",
    "from plotly.subplots import make_subplots\n",
    "import json"
   ]
  },
  {
   "cell_type": "code",
   "execution_count": 7,
   "id": "c259aceb",
   "metadata": {},
   "outputs": [],
   "source": [
    "RED_PALETTE = ['#4f080b', '#8f1d21','#bd4a4d','#d47f81', '#edbebf']\n",
    "\n",
    "boxes = ['#a35ef7']\n",
    "\n",
    "VIOLET_PALETTE = ['#fa0598', '#ee05fa', '#8c05fa']\n",
    "\n",
    "COLOR_PALETTE = ['#d0e3f5',\n",
    "                 '#712e67',\n",
    "                 '#267592',\n",
    "                 '#5fb12a',\n",
    "                 '#fac800',\n",
    "                 '#ff7917',\n",
    "                 '#e23a34',\n",
    "                 \"#ffd700\",\n",
    "                 \"#ffb14e\",\n",
    "                 \"#fa8775\",\n",
    "                 \"#ea5f94\",\n",
    "                 \"#cd34b5\",\n",
    "                 \"#9d02d7\",\n",
    "                 \"#ab7ca3\",\n",
    "                 \"#0064ab\",\n",
    "                 \"#0000ff\"]\n",
    "\n",
    "BLUE_PALETTE = ['#013c66', '#0064ab', '#3986bd', '#8ac3eb', '#b3d1e6']\n",
    "\n",
    "GREY_PALETTE = ['#0a0a0a','#333333', '#595959','#808080','#a6a6a6']\n",
    "\n",
    "GREEN_PALETTE = ['#0c6624', '#419c59','#81c794', '#c5edd0']\n",
    "\n",
    "LENGHTS = [100,200,300,400]\n",
    "\n",
    "markers_size = 5\n",
    "\n",
    "line_width = 5\n",
    "\n",
    "SIGMAS = ['smooth', 0.2,0.15,0.1,0.05]"
   ]
  },
  {
   "cell_type": "code",
   "execution_count": 8,
   "id": "25c8ea68",
   "metadata": {},
   "outputs": [],
   "source": [
    "Df_centrality_geometry = pd.read_csv('Correlation_centrality_geom_quantities.csv')\n",
    "Df_correlation_centr = pd.read_csv('Correlation_centrality_noisy_curves.csv')\n",
    "Df_AMI = pd.read_csv('AMI_scores_noisy_curves.csv')\n",
    "Df_comm_geom = pd.read_csv('Correlation_communities_geom_quantities.csv')"
   ]
  },
  {
   "cell_type": "code",
   "execution_count": 9,
   "id": "a09c4d98",
   "metadata": {},
   "outputs": [],
   "source": [
    "with open('all_communities.json','r')  as fp:\n",
    "    COMMUNITIES = json.load(fp)"
   ]
  },
  {
   "cell_type": "code",
   "execution_count": null,
   "id": "e2ffd162",
   "metadata": {},
   "outputs": [],
   "source": []
  }
 ],
 "metadata": {
  "kernelspec": {
   "display_name": "Python 3 (ipykernel)",
   "language": "python",
   "name": "python3"
  },
  "language_info": {
   "codemirror_mode": {
    "name": "ipython",
    "version": 3
   },
   "file_extension": ".py",
   "mimetype": "text/x-python",
   "name": "python",
   "nbconvert_exporter": "python",
   "pygments_lexer": "ipython3",
   "version": "3.9.7"
  }
 },
 "nbformat": 4,
 "nbformat_minor": 5
}
